{
 "cells": [
  {
   "cell_type": "code",
   "execution_count": 1,
   "metadata": {
    "collapsed": false
   },
   "outputs": [
    {
     "name": "stdout",
     "output_type": "stream",
     "text": [
      "Populating the interactive namespace from numpy and matplotlib\n"
     ]
    }
   ],
   "source": [
    "import numpy as np\n",
    "%pylab inline"
   ]
  },
  {
   "cell_type": "code",
   "execution_count": null,
   "metadata": {
    "collapsed": true
   },
   "outputs": [],
   "source": []
  },
  {
   "cell_type": "markdown",
   "metadata": {},
   "source": [
    "### 3 CVA/DVA Exercise"
   ]
  },
  {
   "cell_type": "markdown",
   "metadata": {},
   "source": [
    "#### Market setup"
   ]
  },
  {
   "cell_type": "markdown",
   "metadata": {},
   "source": [
    "##### Interest Rate Setup"
   ]
  },
  {
   "cell_type": "code",
   "execution_count": null,
   "metadata": {
    "collapsed": true
   },
   "outputs": [],
   "source": [
    "sigma_r = 0.02\n",
    "c = 0.35\n",
    "kappa1 = 0.02\n",
    "kappa2 = 0.1\n",
    "rho_inf = 0.4\n",
    "nu = np.sqrt(1./c/c - 1. - 2.*(rho_inf/c - 1.))\n",
    "rho_x = (rho_inf/c - 1.)*nu\n",
    "sigma_l = c * sigma_r\n",
    "sigma1 = sigma_l\n",
    "sigma2 = nu*sigma1"
   ]
  },
  {
   "cell_type": "markdown",
   "metadata": {},
   "source": [
    "###### Swap Object and Pricing"
   ]
  },
  {
   "cell_type": "code",
   "execution_count": 2,
   "metadata": {
    "collapsed": true
   },
   "outputs": [],
   "source": [
    "class Swap(object) :\n",
    "    def __init__(self, maturity, coupon, freq, P_OIS, P_LIBOR) :\n",
    "        '''\n",
    "        Args:\n",
    "            maturity: in years\n",
    "            freq:     frequency of payments, 2 for semi-annual\n",
    "            P_OIS:    array, discount bond price using OIS\n",
    "            P_Libor:  array, discount bond price using LIBOR\n",
    "        \n",
    "        '''\n",
    "        self.maturity = maturity\n",
    "        self.coupon = coupon\n",
    "        self.freq = freq\n",
    "        '''self.P_OIS = P_OIS\n",
    "        self.P_LIBOR = P_LIBOR'''\n",
    "        \n",
    "    def __str__(self) :\n",
    "        return 'Swap: maturity %g, coupon %g, freq %g' % (self. maturity, self.coupon, self.freq)\n",
    "    \n",
    "def priceSwap(swap, payerOrReceiver, P_OIS, P_LIBOR, i, dt) :\n",
    "    '''\n",
    "    Args:\n",
    "        swap:     a swap object\n",
    "        payerOrReceiver: string type, 'payer' or 'receiver'\n",
    "        P_OIS:    array, discount bond price using OIS\n",
    "        P_Libor:  array, discount bond price using LIBOR\n",
    "        i:        time step now, takes positive integer\n",
    "        dt:       \n",
    "    '''\n",
    "    ts = np.arange(dt,swap.maturity+1e-6,dt)[i:]\n",
    "    floating = \n",
    "    if payerOrReceiver == 'payer':\n",
    "        net_payment = floating - swap.coupon\n",
    "    else:\n",
    "        net_payment = swap.coupon - floating\n",
    "        \n",
    "    return "
   ]
  },
  {
   "cell_type": "code",
   "execution_count": 5,
   "metadata": {
    "collapsed": false
   },
   "outputs": [
    {
     "data": {
      "text/plain": [
       "'Swap: maturity 10, coupon 0.0265, freq 2'"
      ]
     },
     "execution_count": 5,
     "metadata": {},
     "output_type": "execute_result"
    }
   ],
   "source": [
    "payer_swap = Swap(10,0.0265,2,1,1)\n",
    "payer_swap.__str__()"
   ]
  },
  {
   "cell_type": "markdown",
   "metadata": {},
   "source": [
    "###### Simulate OIS curve"
   ]
  },
  {
   "cell_type": "code",
   "execution_count": null,
   "metadata": {
    "collapsed": true
   },
   "outputs": [],
   "source": [
    "def simulateXt(rho_x, sigma1, sigma2, kappa1, kappa2, sim_freq, maturity):\n",
    "    x = np.asarray([0,0])\n",
    "    C = np.asarray([1,0],[rho_x,1-rho_x*rho_x]) # Cholesky decomposition of correlation matrix\n",
    "    xt = []\n",
    "    \n",
    "    for i in range(maturity/sim_freq):\n",
    "        wt = C.dot(np.random.normal(0,sim_freq,(2,)))\n",
    "        y = \n",
    "        x = x + (y.dot(np.ones(2))-np.diag([kappa1,kappa2]).dot(x))*sim_freq+np.diag([sigma1,sigma2]).dot(wt)\n",
    "        xt.append(x)"
   ]
  },
  {
   "cell_type": "code",
   "execution_count": 21,
   "metadata": {
    "collapsed": false
   },
   "outputs": [
    {
     "name": "stdout",
     "output_type": "stream",
     "text": [
      "(2L,)\n",
      "(2L,)\n",
      "[[2 0]\n",
      " [0 3]]\n"
     ]
    }
   ],
   "source": [
    "# test cell\n",
    "rho_x = 0.5\n",
    "C = np.asarray([[1,0],[rho_x,1-rho_x*rho_x]]) # Cholesky decomposition of correlation matrix\n",
    "wt = C.dot(np.random.normal(0,1,(2,)))\n",
    "print wt.shape\n",
    "print np.ones(2).shape\n",
    "print np.diag(np.asarray([2,3]))"
   ]
  },
  {
   "cell_type": "markdown",
   "metadata": {},
   "source": [
    "### 4 IMM Exercise"
   ]
  },
  {
   "cell_type": "code",
   "execution_count": null,
   "metadata": {
    "collapsed": true
   },
   "outputs": [],
   "source": []
  }
 ],
 "metadata": {
  "anaconda-cloud": {},
  "kernelspec": {
   "display_name": "Python [default]",
   "language": "python",
   "name": "python2"
  },
  "language_info": {
   "codemirror_mode": {
    "name": "ipython",
    "version": 2
   },
   "file_extension": ".py",
   "mimetype": "text/x-python",
   "name": "python",
   "nbconvert_exporter": "python",
   "pygments_lexer": "ipython2",
   "version": "2.7.12"
  }
 },
 "nbformat": 4,
 "nbformat_minor": 1
}
