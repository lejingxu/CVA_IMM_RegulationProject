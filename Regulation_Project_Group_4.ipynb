{
 "cells": [
  {
   "cell_type": "code",
   "execution_count": 2,
   "metadata": {
    "collapsed": false
   },
   "outputs": [
    {
     "name": "stdout",
     "output_type": "stream",
     "text": [
      "Populating the interactive namespace from numpy and matplotlib\n"
     ]
    }
   ],
   "source": [
    "import numpy as np\n",
    "import scipy.integrate as integrate\n",
    "%pylab inline\n"
   ]
  },
  {
   "cell_type": "markdown",
   "metadata": {},
   "source": [
    "### 3 CVA/DVA Exercise"
   ]
  },
  {
   "cell_type": "markdown",
   "metadata": {},
   "source": [
    "#### Market setup"
   ]
  },
  {
   "cell_type": "markdown",
   "metadata": {},
   "source": [
    "##### Interest Rate Setup"
   ]
  },
  {
   "cell_type": "code",
   "execution_count": 3,
   "metadata": {
    "collapsed": true
   },
   "outputs": [],
   "source": [
    "sigma_r = 0.02\n",
    "c = 0.35\n",
    "kappa1 = 0.02\n",
    "kappa2 = 0.1\n",
    "rho_inf = 0.4\n",
    "nu = np.sqrt(1./c/c - 1. - 2.*(rho_inf/c - 1.))\n",
    "rho_x = (rho_inf/c - 1.)*nu\n",
    "sigma_l = c * sigma_r\n",
    "sigma1 = sigma_l\n",
    "sigma2 = nu*sigma1"
   ]
  },
  {
   "cell_type": "markdown",
   "metadata": {},
   "source": [
    "###### Swap Object and Pricing"
   ]
  },
  {
   "cell_type": "code",
   "execution_count": 6,
   "metadata": {
    "collapsed": false
   },
   "outputs": [],
   "source": [
    "class Swap(object) :\n",
    "    def __init__(self, maturity, coupon, freq) :\n",
    "        '''\n",
    "        Args:\n",
    "            maturity: in years\n",
    "            coupon:   fixed coupon, in decimal\n",
    "            freq:     frequency of payments, 2 for semi-annual\n",
    "        \n",
    "        '''\n",
    "        self.maturity = maturity\n",
    "        self.coupon = coupon\n",
    "        self.freq = freq\n",
    "        \n",
    "    def __str__(self) :\n",
    "        return 'Swap: maturity %g, coupon %g, freq %g' % (self. maturity, self.coupon, self.freq)\n",
    "    \n",
    "def priceSwap(swap, payerOrReceiver, P_OIS, P_LIBOR, i, dt) :\n",
    "    '''\n",
    "    Args:\n",
    "        swap:     a swap object\n",
    "        payerOrReceiver: string type, 'payer' or 'receiver'\n",
    "        P_OIS:    array, discount bond price using OIS\n",
    "        P_Libor:  array, discount bond price using LIBOR\n",
    "        i:        time step now, takes positive integer\n",
    "        dt:       \n",
    "    '''\n",
    "    ts = np.arange(dt,swap.maturity+1e-6,dt)[i:]\n",
    "    #floating = \n",
    "    if payerOrReceiver == 'payer':\n",
    "        net_payment = floating - swap.coupon\n",
    "    else:\n",
    "        net_payment = swap.coupon - floating\n",
    "        \n",
    "    return "
   ]
  },
  {
   "cell_type": "code",
   "execution_count": 7,
   "metadata": {
    "collapsed": false
   },
   "outputs": [
    {
     "data": {
      "text/plain": [
       "'Swap: maturity 10, coupon 0.0265, freq 2'"
      ]
     },
     "execution_count": 7,
     "metadata": {},
     "output_type": "execute_result"
    }
   ],
   "source": [
    "payer_swap = Swap(10,0.0265,2,1,1)\n",
    "payer_swap.__str__()"
   ]
  },
  {
   "cell_type": "markdown",
   "metadata": {},
   "source": [
    "###### Simulate OIS curve"
   ]
  },
  {
   "cell_type": "markdown",
   "metadata": {},
   "source": [
    "From equation (18) and (19) from [1], we get $$\\sigma_{22}=\\sigma_2$$\n",
    "$$\\sigma_{21}=\\sigma_1 \\times \\rho_x$$\n",
    "$$\\sigma_{11}=\\sqrt{\\sigma_1^2-\\sigma_{21}^2}=\\sqrt{\\sigma_1^2-\\sigma_1^2\\times \\rho_x^2}$$\n",
    "For $y(t)$, we calculate the involved integral manually:\n",
    "$$\\int_{0}^{t}{a(u)^T a(u)du}=\\int_{0}^{t} \\begin{bmatrix} \\sigma_{11}^2e^{2\\kappa_1u} & \\sigma_{21}\\sigma_{22}e^{(\\kappa_1+\\kappa_2)u}\\\\\\sigma_{21}\\sigma_{22}e^{(\\kappa_1+\\kappa_2)u} & \\sigma_{22}^2e^{2\\kappa_2u} \\end{bmatrix}du \\\\=\\begin{bmatrix} \\frac{\\sigma_{11}^2+\\sigma_{21}^2}{2\\kappa_1}(e^{2\\kappa_1t}-1) & \\frac{\\sigma_{21}\\sigma_{22}}{\\kappa_1+\\kappa_2}(e^{(\\kappa_1+\\kappa_2)t}-1) \\\\ \\frac{\\sigma_{21}\\sigma_{22}}{\\kappa_1+\\kappa_2}(e^{(\\kappa_1+\\kappa_2)t}-1) & \\frac{\\sigma_{22}^2}{2\\kappa_2}(e^{2\\kappa_2t}-1)\\end{bmatrix}$$\n",
    "For $P(t,x(t),T)$, we know $$P(t,x(t),T)=e^{-\\int_{t}^{T} f(t,x(t),u)du}$$ where $$f(t,x(t),u)=f(0,u)+M(t,u)^T(x(t)+y(t)G(t,u))$$\n",
    "Since $f(0,u)$ is constant, then $$P(t,x(t),T)=e^{-f(0,u)(T-t)}e^{-x(t)\\int_{t}^{T}M(t,u)du}e^{-y(t)\\int_{t}^{T}M(t,u)^TG(t,u)du}\\\\=\\frac{P(0,T)}{P(0,t)}exp\\big(-G(t,T)^Tx(t)-\\frac{1}{2}G(t,T)^Ty(t)G(t,T)\\big)$$"
   ]
  },
  {
   "cell_type": "code",
   "execution_count": 10,
   "metadata": {
    "collapsed": false
   },
   "outputs": [],
   "source": [
    "def simulateXt(rho_x, sigma1, sigma2, kappa1, kappa2, sim_freq, maturity):\n",
    "    '''\n",
    "    Args:\n",
    "        sim_freq: simulation frequency for rate curves, 12 for monthly\n",
    "    \n",
    "    '''\n",
    "    sigma22 = sigma2\n",
    "    sigma21 = sigma1*rho_x\n",
    "    sigma11 = np.sqrt(sigma1**2 *(1 - rho_x*rho_x))\n",
    "    \n",
    "    ts = np.arange(1./sim_freq,maturity+1e-6,1./sim_freq)\n",
    "    x = np.asarray([0,0])\n",
    "    C = np.asarray([[1,0],[rho_x,1.-rho_x*rho_x]]) # Cholesky decomposition of corr matrix for Brownian motion\n",
    "    xt = []\n",
    "    yt = []\n",
    "    \n",
    "    for i in range(maturity*sim_freq):\n",
    "        wt = C.dot(np.random.normal(0,1./sim_freq,(2,)))\n",
    "        B = np.diag([np.exp(-kappa1*ts[i]),np.exp(-kappa2*ts[i])])\n",
    "        \n",
    "        integral_aa11 = (sigma11**2+sigma21**2)/2./kappa1*(np.exp(2*kappa1*ts[i])-1.)\n",
    "        integral_aa12 = sigma21*sigma22/(kappa1+kappa2)*(np.exp((kappa1+kappa2)*ts[i])-1.)\n",
    "        integral_aa22 = sigma22**2 /2./kappa2*(np.exp(2*kappa2*ts[i]-1.))\n",
    "        integral_aa = np.asarray([[integral_aa11,integral_aa12],[integral_aa12,integral_aa22]])\n",
    "        #print (integrate.fixed_quad(integrant_aa,0,ts[i])[0])\n",
    "        y = B.dot(integral_aa).dot(B)\n",
    "        \n",
    "        x = x + (y.dot(np.ones(2))-np.diag([kappa1,kappa2]).dot(x))*1./sim_freq+np.diag([sigma1,sigma2]).dot(wt)\n",
    "        xt.append(x)\n",
    "        yt.append(y)\n",
    "        \n",
    "    return xt,yt"
   ]
  },
  {
   "cell_type": "code",
   "execution_count": 16,
   "metadata": {
    "collapsed": false
   },
   "outputs": [
    {
     "data": {
      "text/plain": [
       "<matplotlib.legend.Legend at 0xa4e8c18>"
      ]
     },
     "execution_count": 16,
     "metadata": {},
     "output_type": "execute_result"
    },
    {
     "data": {
      "image/png": "[encoded data removed]",
      "text/plain": [
       "<matplotlib.figure.Figure at 0xa4e8898>"
      ]
     },
     "metadata": {},
     "output_type": "display_data"
    }
   ],
   "source": [
    "xt,yt= simulateXt(rho_x, sigma1, sigma2, kappa1, kappa2, 12, 10)\n",
    "plot(xt)\n",
    "legend(['x1','x2'],loc=1)"
   ]
  },
  {
   "cell_type": "code",
   "execution_count": 3,
   "metadata": {
    "collapsed": false
   },
   "outputs": [
    {
     "name": "stdout",
     "output_type": "stream",
     "text": [
      "(2L,)\n",
      "(2L,)\n",
      "[[2 0]\n",
      " [0 3]]\n",
      "[  0.08333333   0.16666667   0.25         0.33333333   0.41666667   0.5\n",
      "   0.58333333   0.66666667   0.75         0.83333333   0.91666667   1.\n",
      "   1.08333333   1.16666667   1.25         1.33333333   1.41666667   1.5\n",
      "   1.58333333   1.66666667   1.75         1.83333333   1.91666667   2.\n",
      "   2.08333333   2.16666667   2.25         2.33333333   2.41666667   2.5\n",
      "   2.58333333   2.66666667   2.75         2.83333333   2.91666667   3.\n",
      "   3.08333333   3.16666667   3.25         3.33333333   3.41666667   3.5\n",
      "   3.58333333   3.66666667   3.75         3.83333333   3.91666667   4.\n",
      "   4.08333333   4.16666667   4.25         4.33333333   4.41666667   4.5\n",
      "   4.58333333   4.66666667   4.75         4.83333333   4.91666667   5.\n",
      "   5.08333333   5.16666667   5.25         5.33333333   5.41666667   5.5\n",
      "   5.58333333   5.66666667   5.75         5.83333333   5.91666667   6.\n",
      "   6.08333333   6.16666667   6.25         6.33333333   6.41666667   6.5\n",
      "   6.58333333   6.66666667   6.75         6.83333333   6.91666667   7.\n",
      "   7.08333333   7.16666667   7.25         7.33333333   7.41666667   7.5\n",
      "   7.58333333   7.66666667   7.75         7.83333333   7.91666667   8.\n",
      "   8.08333333   8.16666667   8.25         8.33333333   8.41666667   8.5\n",
      "   8.58333333   8.66666667   8.75         8.83333333   8.91666667   9.\n",
      "   9.08333333   9.16666667   9.25         9.33333333   9.41666667   9.5\n",
      "   9.58333333   9.66666667   9.75         9.83333333   9.91666667  10.        ]\n"
     ]
    }
   ],
   "source": [
    "# test cell\n",
    "rho_x = 0.5\n",
    "C = np.asarray([[1,0],[rho_x,1-rho_x*rho_x]]) # Cholesky decomposition of correlation matrix\n",
    "wt = C.dot(np.random.normal(0,1,(2,)))\n",
    "print wt.shape\n",
    "print np.ones(2).shape\n",
    "print np.diag(np.asarray([2,3]))\n",
    "print np.arange(1./12,10.00001,1./12)"
   ]
  },
  {
   "cell_type": "markdown",
   "metadata": {},
   "source": [
    "### 4 IMM Exercise"
   ]
  },
  {
   "cell_type": "code",
   "execution_count": null,
   "metadata": {
    "collapsed": true
   },
   "outputs": [],
   "source": []
  }
 ],
 "metadata": {
  "anaconda-cloud": {},
  "kernelspec": {
   "display_name": "Python [default]",
   "language": "python",
   "name": "python2"
  },
  "language_info": {
   "codemirror_mode": {
    "name": "ipython",
    "version": 2
   },
   "file_extension": ".py",
   "mimetype": "text/x-python",
   "name": "python",
   "nbconvert_exporter": "python",
   "pygments_lexer": "ipython2",
   "version": "2.7.12"
  }
 },
 "nbformat": 4,
 "nbformat_minor": 1
}
