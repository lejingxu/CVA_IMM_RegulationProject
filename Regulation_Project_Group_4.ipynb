{
 "cells": [
  {
   "cell_type": "code",
   "execution_count": 1,
   "metadata": {
    "collapsed": false
   },
   "outputs": [
    {
     "name": "stdout",
     "output_type": "stream",
     "text": [
      "Populating the interactive namespace from numpy and matplotlib\n"
     ]
    }
   ],
   "source": [
    "import numpy as np\n",
    "import scipy.integrate as integrate\n",
    "%pylab inline\n"
   ]
  },
  {
   "cell_type": "markdown",
   "metadata": {},
   "source": [
    "### 3 CVA/DVA Exercise"
   ]
  },
  {
   "cell_type": "markdown",
   "metadata": {},
   "source": [
    "#### Market setup"
   ]
  },
  {
   "cell_type": "markdown",
   "metadata": {},
   "source": [
    "##### Interest Rate Setup"
   ]
  },
  {
   "cell_type": "code",
   "execution_count": 17,
   "metadata": {
    "collapsed": true
   },
   "outputs": [],
   "source": [
    "spread = 0.005 # spread i.e. f_LIBOR=f_OIS+spread\n",
    "f0_OIS = 0.02\n",
    "f0_LIBOR = f0_OIS+spread\n",
    "sim_freq = 12\n",
    "\n",
    "freq = 2\n",
    "maturity = 10\n",
    "\n",
    "sigma_r = 0.02\n",
    "c = 0.35\n",
    "kappa1 = 0.02\n",
    "kappa2 = 0.1\n",
    "rho_inf = 0.4\n",
    "nu = np.sqrt(1./c/c - 1. - 2.*(rho_inf/c - 1.))\n",
    "rho_x = (rho_inf/c - 1.)*nu\n",
    "sigma_l = c * sigma_r\n",
    "sigma1 = sigma_l\n",
    "sigma2 = nu*sigma1"
   ]
  },
  {
   "cell_type": "markdown",
   "metadata": {},
   "source": [
    "###### Swap Object and Pricing"
   ]
  },
  {
   "cell_type": "code",
   "execution_count": 3,
   "metadata": {
    "collapsed": false
   },
   "outputs": [],
   "source": [
    "class Swap(object) :\n",
    "    def __init__(self, maturity, coupon, freq) :\n",
    "        '''\n",
    "        Args:\n",
    "            maturity: in years\n",
    "            coupon:   fixed coupon, in decimal\n",
    "            freq:     frequency of payments, 2 for semi-annual\n",
    "        \n",
    "        '''\n",
    "        self.maturity = maturity\n",
    "        self.coupon = coupon\n",
    "        self.freq = freq\n",
    "        \n",
    "    def __str__(self) :\n",
    "        return 'Swap: maturity %g, coupon %g, freq %g' % (self. maturity, self.coupon, self.freq)\n",
    "    \n",
    "def priceSwap(swap, payerOrReceiver, P_OIS, P_LIBOR, i) :\n",
    "    '''\n",
    "    Args:\n",
    "        swap:     a swap object\n",
    "        payerOrReceiver: string type, 'payer' or 'receiver'\n",
    "        P_OIS:    array, discount bond price using OIS\n",
    "        P_Libor:  array, discount bond price using LIBOR\n",
    "        i:        time step now, takes positive integer\n",
    "    '''\n",
    "    ts = np.arange(dt,swap.maturity+1e-6,dt)\n",
    "    #floating = \n",
    "    if payerOrReceiver == 'payer':\n",
    "        net_payment = floating - swap.coupon\n",
    "    else:\n",
    "        net_payment = swap.coupon - floating\n",
    "        \n",
    "    return "
   ]
  },
  {
   "cell_type": "code",
   "execution_count": 5,
   "metadata": {
    "collapsed": false
   },
   "outputs": [
    {
     "data": {
      "text/plain": [
       "'Swap: maturity 10, coupon 0.0265, freq 2'"
      ]
     },
     "execution_count": 5,
     "metadata": {},
     "output_type": "execute_result"
    }
   ],
   "source": [
    "payer_swap = Swap(10,0.0265,2)\n",
    "payer_swap.__str__()"
   ]
  },
  {
   "cell_type": "markdown",
   "metadata": {},
   "source": [
    "###### Simulate OIS curve"
   ]
  },
  {
   "cell_type": "markdown",
   "metadata": {},
   "source": [
    "From equation (18) and (19) from [1], we get $$\\sigma_{22}=\\sigma_2$$\n",
    "$$\\sigma_{21}=\\sigma_1 \\times \\rho_x$$\n",
    "$$\\sigma_{11}=\\sqrt{\\sigma_1^2-\\sigma_{21}^2}=\\sqrt{\\sigma_1^2-\\sigma_1^2\\times \\rho_x^2}$$\n",
    "For $y(t)$, we calculate the involved integral manually:\n",
    "$$\\int_{0}^{t}{a(u)^T a(u)du}=\\int_{0}^{t} \\begin{bmatrix} \\sigma_{11}^2e^{2\\kappa_1u} & \\sigma_{21}\\sigma_{22}e^{(\\kappa_1+\\kappa_2)u}\\\\\\sigma_{21}\\sigma_{22}e^{(\\kappa_1+\\kappa_2)u} & \\sigma_{22}^2e^{2\\kappa_2u} \\end{bmatrix}du \\\\=\\begin{bmatrix} \\frac{\\sigma_{11}^2+\\sigma_{21}^2}{2\\kappa_1}(e^{2\\kappa_1t}-1) & \\frac{\\sigma_{21}\\sigma_{22}}{\\kappa_1+\\kappa_2}(e^{(\\kappa_1+\\kappa_2)t}-1) \\\\ \\frac{\\sigma_{21}\\sigma_{22}}{\\kappa_1+\\kappa_2}(e^{(\\kappa_1+\\kappa_2)t}-1) & \\frac{\\sigma_{22}^2}{2\\kappa_2}(e^{2\\kappa_2t}-1)\\end{bmatrix}$$\n",
    "For $P(t,x(t),T)$, we know $$P(t,x(t),T)=e^{-\\int_{t}^{T} f(t,x(t),u)du}$$ where $$f(t,x(t),u)=f(0,u)+M(t,u)^T(x(t)+y(t)G(t,u))$$\n",
    "Since $f(0,u)$ is constant, then $$P(t,x(t),T)=e^{-f(0,T)+f(0,t)}e^{-x(t)\\int_{t}^{T}M(t,u)du}e^{-y(t)\\int_{t}^{T}M(t,u)^TG(t,u)du}\\\\=\\frac{P(0,T)}{P(0,t)}exp\\big(-G(t,T)^Tx(t)-\\frac{1}{2}G(t,T)^Ty(t)G(t,T)\\big)$$\n",
    "where $$M(t,T)=\\begin{bmatrix} e^{-\\kappa_1(T-t)} \\\\ e^{-\\kappa_2(T-t)}\\end{bmatrix}$$\n",
    "and $$G(t,T)=\\int_{t}^{T}M(t,u)du=\\int_{t}^{T}\\begin{bmatrix} e^{-\\kappa_1(T-t)} \\\\ e^{-\\kappa_2(T-t)}\\end{bmatrix}du\\\\=\\begin{bmatrix} \\frac{1-\\kappa_1(T-t)}{\\kappa_1} \\\\ \\frac{1-\\kappa_2(T-t)}{\\kappa_2}\\end{bmatrix}$$"
   ]
  },
  {
   "cell_type": "code",
   "execution_count": 6,
   "metadata": {
    "collapsed": false
   },
   "outputs": [
    {
     "name": "stdout",
     "output_type": "stream",
     "text": [
      "4\n"
     ]
    }
   ],
   "source": [
    "# test\n",
    "a = np.asarray([2,0,1,2])\n",
    "print len(a)"
   ]
  },
  {
   "cell_type": "code",
   "execution_count": 7,
   "metadata": {
    "collapsed": false
   },
   "outputs": [],
   "source": [
    "def simulateXt(rho_x, sigma1, sigma2, kappa1, kappa2, sim_freq, maturity,ts):\n",
    "    '''\n",
    "    Args:\n",
    "        sim_freq: simulation frequency for rate curves, 12 for monthly\n",
    "    \n",
    "    '''\n",
    "    sigma22 = sigma2\n",
    "    sigma21 = sigma1*rho_x\n",
    "    sigma11 = np.sqrt(sigma1**2 *(1 - rho_x*rho_x))\n",
    "    \n",
    "    \n",
    "    x = np.asarray([0,0])\n",
    "    C = np.asarray([[1,0],[rho_x,1.-rho_x*rho_x]]) # Cholesky decomposition of corr matrix for Brownian motion\n",
    "    xt = []\n",
    "    yt = []\n",
    "    \n",
    "    for i in range(maturity*sim_freq):\n",
    "        wt = C.dot(np.random.normal(0,1./sim_freq,(2,)))\n",
    "        B = np.diag([np.exp(-kappa1*ts[i]),np.exp(-kappa2*ts[i])])\n",
    "        \n",
    "        integral_aa11 = (sigma11**2+sigma21**2)/2./kappa1*(np.exp(2*kappa1*ts[i])-1.)\n",
    "        integral_aa12 = sigma21*sigma22/(kappa1+kappa2)*(np.exp((kappa1+kappa2)*ts[i])-1.)\n",
    "        integral_aa22 = sigma22**2 /2./kappa2*(np.exp(2*kappa2*ts[i]-1.))\n",
    "        integral_aa = np.asarray([[integral_aa11,integral_aa12],[integral_aa12,integral_aa22]])\n",
    "        #print (integrate.fixed_quad(integrant_aa,0,ts[i])[0])\n",
    "        y = B.dot(integral_aa).dot(B)\n",
    "        \n",
    "        x = x + (y.dot(np.ones(2))-np.diag([kappa1,kappa2]).dot(x))*1./sim_freq+np.diag([sigma1,sigma2]).dot(wt)\n",
    "        xt.append(x)\n",
    "        yt.append(y)\n",
    "        \n",
    "    return xt,yt"
   ]
  },
  {
   "cell_type": "code",
   "execution_count": 8,
   "metadata": {
    "collapsed": false
   },
   "outputs": [
    {
     "ename": "TypeError",
     "evalue": "simulateXt() takes exactly 8 arguments (7 given)",
     "output_type": "error",
     "traceback": [
      "\u001b[0;31m---------------------------------------------------------------------------\u001b[0m",
      "\u001b[0;31mTypeError\u001b[0m                                 Traceback (most recent call last)",
      "\u001b[0;32m<ipython-input-8-d09b7f354105>\u001b[0m in \u001b[0;36m<module>\u001b[0;34m()\u001b[0m\n\u001b[0;32m----> 1\u001b[0;31m \u001b[0mxt\u001b[0m\u001b[1;33m,\u001b[0m\u001b[0myt\u001b[0m\u001b[1;33m=\u001b[0m \u001b[0msimulateXt\u001b[0m\u001b[1;33m(\u001b[0m\u001b[0mrho_x\u001b[0m\u001b[1;33m,\u001b[0m \u001b[0msigma1\u001b[0m\u001b[1;33m,\u001b[0m \u001b[0msigma2\u001b[0m\u001b[1;33m,\u001b[0m \u001b[0mkappa1\u001b[0m\u001b[1;33m,\u001b[0m \u001b[0mkappa2\u001b[0m\u001b[1;33m,\u001b[0m \u001b[1;36m12\u001b[0m\u001b[1;33m,\u001b[0m \u001b[1;36m10\u001b[0m\u001b[1;33m)\u001b[0m\u001b[1;33m\u001b[0m\u001b[0m\n\u001b[0m\u001b[1;32m      2\u001b[0m \u001b[0mplot\u001b[0m\u001b[1;33m(\u001b[0m\u001b[0mxt\u001b[0m\u001b[1;33m)\u001b[0m\u001b[1;33m\u001b[0m\u001b[0m\n\u001b[1;32m      3\u001b[0m \u001b[0mlegend\u001b[0m\u001b[1;33m(\u001b[0m\u001b[1;33m[\u001b[0m\u001b[1;34m'x1'\u001b[0m\u001b[1;33m,\u001b[0m\u001b[1;34m'x2'\u001b[0m\u001b[1;33m]\u001b[0m\u001b[1;33m,\u001b[0m\u001b[0mloc\u001b[0m\u001b[1;33m=\u001b[0m\u001b[1;36m1\u001b[0m\u001b[1;33m)\u001b[0m\u001b[1;33m\u001b[0m\u001b[0m\n",
      "\u001b[0;31mTypeError\u001b[0m: simulateXt() takes exactly 8 arguments (7 given)"
     ]
    }
   ],
   "source": [
    "xt,yt= simulateXt(rho_x, sigma1, sigma2, kappa1, kappa2, 12, 10)\n",
    "plot(xt)\n",
    "legend(['x1','x2'],loc=1)"
   ]
  },
  {
   "cell_type": "code",
   "execution_count": 30,
   "metadata": {
    "collapsed": true
   },
   "outputs": [],
   "source": [
    "def simulateOIS(rho_x, sigma1, sigma2, kappa1, kappa2, sim_freq, maturity, f0_OIS, f0_Libor, spread):\n",
    "    ts = np.arange(1./sim_freq,maturity+1e-6,1./sim_freq)\n",
    "    Tis = np.arange(1./freq,maturity+1e-6,1./freq) # time steps when there is cash flow\n",
    "    P_OIS = []\n",
    "    P_LIBOR = []\n",
    "    \n",
    "    P_OIS.append([np.exp(-f0_OIS*t) for t in ts]) # calculate P_OIS(0,t) for all t\n",
    "    P_LIBOR.append([P_OIS[0][i]*np.exp(spread*ts[i]) for i in range(ts.shape[0])])# calculate P_LIBOR(0,t) for all t\n",
    "    xt,yt = simulateXt(rho_x, sigma1, sigma2, kappa1, kappa2, sim_freq, maturity,ts) #120 xt's and yt's\n",
    "    for i in range(ts.shape[0]):\n",
    "        P_OIS_t = []\n",
    "        P_OIS_0_t = P_OIS[0][i]\n",
    "        P_LIBOR_t = []\n",
    "        for j in np.where(Tis>=ts[i])[0]: # index for all coupon paying dates after t\n",
    "            #M = np.asarray([np.exp(-kappa1*(Tis[i]-t)),np.exp(-kappa2*(Tis[i]-t))])\n",
    "            G = np.asarray([(1.-kappa1*(Tis[j]-ts[i]))/kappa1,(1.-kappa2*(Tis[j]-ts[i]))/kappa2])\n",
    "            P_OIS_0_Ti = P_OIS[0][(j+1)*sim_freq/freq-1]\n",
    "            P_OIS_t_Ti = P_OIS_0_Ti/P_OIS_0_t*np.exp(-G.T.dot(xt[i])-0.5*G.T.dot(yt[i]).dot(G))\n",
    "            P_OIS_t.append(P_OIS_t_Ti)\n",
    "            P_LIBOR_t.append(P_OIS_t_Ti*np.exp(spread*(Tis[j]-ts[i])))\n",
    "            \n",
    "        P_OIS.append(P_OIS_t)\n",
    "        P_LIBOR.append(P_LIBOR_t)\n",
    "        \n",
    "    return P_OIS,P_LIBOR"
   ]
  },
  {
   "cell_type": "code",
   "execution_count": 36,
   "metadata": {
    "collapsed": false
   },
   "outputs": [
    {
     "name": "stdout",
     "output_type": "stream",
     "text": [
      "[0.57657933344967405]\n"
     ]
    },
    {
     "data": {
      "image/png": "[encoded data removed]",
      "text/plain": [
       "<matplotlib.figure.Figure at 0xb273550>"
      ]
     },
     "metadata": {},
     "output_type": "display_data"
    }
   ],
   "source": [
    "ois,libor = simulateOIS(rho_x, sigma1, sigma2, kappa1, kappa2, sim_freq, maturity, f0_OIS, f0_LIBOR, spread)\n",
    "#print ois\n",
    "#print libor\n",
    "ts = np.arange(1./sim_freq,maturity+1e-6,1./sim_freq)\n",
    "plot(ts,ois[0],ts,libor[0])\n",
    "legend(['OIS','LIBOR'])\n",
    "print ois[120]"
   ]
  },
  {
   "cell_type": "code",
   "execution_count": null,
   "metadata": {
    "collapsed": false
   },
   "outputs": [],
   "source": [
    "# test cell\n",
    "rho_x = 0.5\n",
    "C = np.asarray([[1,0],[rho_x,1-rho_x*rho_x]]) # Cholesky decomposition of correlation matrix\n",
    "wt = C.dot(np.random.normal(0,1,(2,)))\n",
    "print wt.shape\n",
    "print np.ones(2).shape\n",
    "print np.diag(np.asarray([2,3]))\n",
    "print np.arange(1./12,10.00001,1./12)"
   ]
  },
  {
   "cell_type": "markdown",
   "metadata": {},
   "source": [
    "### 4 IMM Exercise"
   ]
  },
  {
   "cell_type": "code",
   "execution_count": null,
   "metadata": {
    "collapsed": true
   },
   "outputs": [],
   "source": []
  }
 ],
 "metadata": {
  "anaconda-cloud": {},
  "kernelspec": {
   "display_name": "Python [default]",
   "language": "python",
   "name": "python2"
  },
  "language_info": {
   "codemirror_mode": {
    "name": "ipython",
    "version": 2
   },
   "file_extension": ".py",
   "mimetype": "text/x-python",
   "name": "python",
   "nbconvert_exporter": "python",
   "pygments_lexer": "ipython2",
   "version": "2.7.12"
  }
 },
 "nbformat": 4,
 "nbformat_minor": 1
}
