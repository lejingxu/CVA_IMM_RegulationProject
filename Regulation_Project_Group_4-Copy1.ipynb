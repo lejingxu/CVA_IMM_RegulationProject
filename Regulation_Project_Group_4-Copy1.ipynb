{
 "cells": [
  {
   "cell_type": "code",
   "execution_count": 2,
   "metadata": {
    "collapsed": false
   },
   "outputs": [
    {
     "name": "stdout",
     "output_type": "stream",
     "text": [
      "Populating the interactive namespace from numpy and matplotlib\n"
     ]
    }
   ],
   "source": [
    "import numpy as np\n",
    "import scipy.integrate as integrate\n",
    "%pylab inline\n"
   ]
  },
  {
   "cell_type": "markdown",
   "metadata": {},
   "source": [
    "### 3 CVA/DVA Exercise"
   ]
  },
  {
   "cell_type": "markdown",
   "metadata": {},
   "source": [
    "###### Swap Object and Pricing"
   ]
  },
  {
   "cell_type": "code",
   "execution_count": 3,
   "metadata": {
    "collapsed": false
   },
   "outputs": [],
   "source": [
    "class Swap(object) :\n",
    "    def __init__(self, maturity, coupon, freq, notional) :\n",
    "        '''\n",
    "        Args:\n",
    "            maturity: in years\n",
    "            coupon:   fixed coupon, in decimal\n",
    "            freq:     frequency of payments, 2 for semi-annual\n",
    "        \n",
    "        '''\n",
    "        self.maturity = maturity\n",
    "        self.coupon = coupon\n",
    "        self.freq = freq\n",
    "        self.notional = notional\n",
    "        \n",
    "    def __str__(self) :\n",
    "        return 'Swap: maturity %g, coupon %g, freq %g, notional %g'% \\\n",
    "        (self.maturity, self.coupon, self.freq, self.notional)\n",
    "    \n",
    "def priceSwap(swap, payerOrReceiver, P_OIS, P_LIBOR, i, ts, Tis, sim_freq) :\n",
    "    '''\n",
    "    Args:\n",
    "        swap:     a swap object\n",
    "        payerOrReceiver: string type, 'payer' or 'receiver'\n",
    "        P_OIS:    array, discount bond price using OIS\n",
    "        P_Libor:  array, discount bond price using LIBOR\n",
    "        i:        time step now, takes positive integer\n",
    "        ts:       simulation time steps\n",
    "        Tis:      payment time steps\n",
    "        \n",
    "    return:\n",
    "        price:    value of swap at time ts[i]\n",
    "    '''\n",
    "    c = swap.coupon * swap.notional/swap.freq # fixed coupon\n",
    "    dT = Tis[1]-Tis[0]\n",
    "    first_stub = np.where(Tis>=ts[i])[0][0]\n",
    "    floating = []\n",
    "    # first add the first (past set) stub where T_(i-1)<t\n",
    "    if first_stub != 0:\n",
    "        floating.append((1./P_LIBOR[first_stub*sim_freq/swap.freq-1][1]-1.)/dT)\n",
    "    else:\n",
    "        floating.append((1./P_LIBOR[0][sim_freq/swap.freq-1]-1.)/dT)\n",
    "    \n",
    "    # then add the rest floating payments using Expectation\n",
    "    for j in range(1,len(P_LIBOR[i+1]),1):\n",
    "        floating.append((P_LIBOR[i+1][j-1]/P_LIBOR[i+1][j]-1.)/dT)\n",
    "        \n",
    "    if payerOrReceiver == 'payer':\n",
    "        net_payment = np.asarray(floating) - c\n",
    "    elif payerOrReceiver == 'receiver':\n",
    "        net_payment = c - np.asarray(floating)\n",
    "    else:\n",
    "        print \"!Error: please set the correct swap type\"\n",
    "        \n",
    "    price = dT*np.sum(np.asarray(P_OIS[i+1]).dot(net_payment))\n",
    "    return price"
   ]
  },
  {
   "cell_type": "markdown",
   "metadata": {},
   "source": [
    "#### Market setup"
   ]
  },
  {
   "cell_type": "code",
   "execution_count": 24,
   "metadata": {
    "collapsed": true
   },
   "outputs": [],
   "source": [
    "def simulateXt_1(ts,sigma,kappa,wt,ind):\n",
    "    '''\n",
    "    One-factor Gaussian Model\n",
    "    Args:\n",
    "        ind: index of which row of wt to use, 2 for lbdaB, 3 lbdaC\n",
    "        \n",
    "    '''\n",
    "    yt = sigma*sigma/2./kappa*(1.-np.exp(-2.*kappa*ts))\n",
    "    xt = []\n",
    "    x = 0\n",
    "    dt = ts[1]-ts[0]\n",
    "    for i in range(len(ts)):\n",
    "        x = x + (yt[i] - kappa*x)*dt+sigma*np.sqrt(dt)*wt[ind][i]\n",
    "        xt.append(x)\n",
    "        \n",
    "    return xt,yt\n",
    "    \n",
    "\n",
    "\n",
    "def simulateXt(rho_x, sigma1, sigma2, kappa1, kappa2, maturity,ts,wt):\n",
    "    '''\n",
    "    Two-factor Gaussian model\n",
    "    Args:\n",
    "        \n",
    "    \n",
    "    '''\n",
    "    sigma22 = sigma2\n",
    "    sigma21 = sigma1*rho_x\n",
    "    sigma11 = np.sqrt(sigma1**2 *(1 - rho_x*rho_x))\n",
    "    \n",
    "    dt = ts[1]-ts[0]\n",
    "    x = np.asarray([0,0])\n",
    "    xt = []\n",
    "    yt = []\n",
    "    \n",
    "    for i in range(maturity/dt):\n",
    "        B = np.diag([np.exp(-kappa1*ts[i]),np.exp(-kappa2*ts[i])])\n",
    "        \n",
    "        integral_aa11 = (sigma11**2+sigma21**2)/2./kappa1*(np.exp(2*kappa1*ts[i])-1.)\n",
    "        integral_aa12 = sigma21*sigma22/(kappa1+kappa2)*(np.exp((kappa1+kappa2)*ts[i])-1.)\n",
    "        integral_aa22 = sigma22**2 /2./kappa2*(np.exp(2*kappa2*ts[i]-1.))\n",
    "        integral_aa = np.asarray([[integral_aa11,integral_aa12],[integral_aa12,integral_aa22]])\n",
    "        \n",
    "        y = B.dot(integral_aa).dot(B)\n",
    "        \n",
    "        x = x + (y.dot(np.ones(2))-np.diag([kappa1,kappa2]).dot(x))*dt+np.diag([sigma1,sigma2]).dot(wt[0:2])\n",
    "        xt.append(x)\n",
    "        yt.append(y)\n",
    "        \n",
    "    return xt,yt\n",
    "    \n",
    "    \n",
    "def simulateOIS(rho_x, sigma1, sigma2, kappa1, kappa2, sim_freq, maturity, f0_OIS, spread,ts,Tis):\n",
    "    \n",
    "    P_OIS = []\n",
    "    P_LIBOR = []\n",
    "    \n",
    "    P_OIS.append([np.exp(-f0_OIS*t) for t in ts]) # calculate P_OIS(0,t) for all t\n",
    "    P_LIBOR.append([P_OIS[0][i]*np.exp(-spread*ts[i]) for i in range(ts.shape[0])])# calculate P_LIBOR(0,t) for all t\n",
    "    xt,yt = simulateXt(rho_x, sigma1, sigma2, kappa1, kappa2, maturity,ts) #120 xt's and yt's\n",
    "    \n",
    "    dt = ts[1]-ts[0]\n",
    "    dT = Tis[1]-Tis[0]\n",
    "\n",
    "    for i in range(ts.shape[0]):\n",
    "        P_OIS_t = []\n",
    "        P_OIS_0_t = P_OIS[0][i]\n",
    "        P_LIBOR_t = []\n",
    "        for j in np.where(Tis>=ts[i])[0]: # index for all coupon paying dates after t\n",
    "            G = np.asarray([(1.-kappa1*(Tis[j]-ts[i]))/kappa1,(1.-kappa2*(Tis[j]-ts[i]))/kappa2])\n",
    "            P_OIS_0_Ti = P_OIS[0][(j+1)*dT/dt-1]\n",
    "            P_OIS_t_Ti = P_OIS_0_Ti/P_OIS_0_t*np.exp(-G.T.dot(xt[i])-0.5*G.T.dot(yt[i]).dot(G))\n",
    "            P_OIS_t.append(P_OIS_t_Ti)\n",
    "            P_LIBOR_t.append(P_OIS_t_Ti*np.exp(-spread*(Tis[j]-ts[i])))\n",
    "            \n",
    "        P_OIS.append(P_OIS_t)\n",
    "        P_LIBOR.append(P_LIBOR_t)\n",
    "        \n",
    "    return P_OIS,P_LIBOR\n",
    "    \n",
    "def simulateSurvivalProb(lbda0_B,lbda0_C,ts,sigmaB,kappaB,sigmaC,kappaC,wt):\n",
    "    XB = []\n",
    "    XC = []\n",
    "\n",
    "    XB.append([np.exp(-lbda0_B*t) for t in ts])\n",
    "    XC.append([np.exp(-lbda0_C*t) for t in ts])\n",
    "    xt_B,yt_B = simulateXt_1(ts,sigmaB,kappaB,wt,0)\n",
    "    xt_C,yt_C = simulateXt_1(ts,sigmaC,kappaC,wt,1)\n",
    "    \n",
    "    for i in range(ts.shape[0]):\n",
    "        XB_ti = []\n",
    "        XC_ti = []\n",
    "        for j in np.where(ts>=ts[i])[0]:\n",
    "            G_B = (1.-np.exp(-kappaB*(ts[j]-ts[i]))/kappaB)\n",
    "            XB_0_tj = XB[0][j]\n",
    "            XB_0_ti = XB[0][i]\n",
    "            XB_ti_tj = XB_0_tj/XB_0_ti*np.exp(-xt_B[i]*G_B-0.5*yt_B[i]*G_B*G_B)\n",
    "            XB_ti.append(XB_ti_tj)\n",
    "            \n",
    "            G_C = (1.-np.exp(-kappaC*(ts[j]-ts[i]))/kappaC)\n",
    "            XC_0_tj = XC[0][j]\n",
    "            XC_0_ti = XC[0][i]\n",
    "            XC_ti_tj = XC_0_tj/XC_0_ti*np.exp(-xt_C[i]*G_C-0.5*yt_C[i]*G_C*G_C)\n",
    "            XC_ti.append(XC_ti_tj)\n",
    "            \n",
    "        XB.append(XB_ti)\n",
    "        XC.append(XC_ti)\n",
    "        \n",
    "    return XB,XC\n",
    "            "
   ]
  },
  {
   "cell_type": "markdown",
   "metadata": {},
   "source": [
    "###### Simulate OIS curve"
   ]
  },
  {
   "cell_type": "markdown",
   "metadata": {},
   "source": [
    "From equation (18) and (19) from [1], we get $$\\sigma_{22}=\\sigma_2$$\n",
    "$$\\sigma_{21}=\\sigma_1 \\times \\rho_x$$\n",
    "$$\\sigma_{11}=\\sqrt{\\sigma_1^2-\\sigma_{21}^2}=\\sqrt{\\sigma_1^2-\\sigma_1^2\\times \\rho_x^2}$$\n",
    "For $y(t)$, we calculate the involved integral manually:\n",
    "$$\\int_{0}^{t}{a(u)^T a(u)du}=\\int_{0}^{t} \\begin{bmatrix} \\sigma_{11}^2e^{2\\kappa_1u} & \\sigma_{21}\\sigma_{22}e^{(\\kappa_1+\\kappa_2)u}\\\\\\sigma_{21}\\sigma_{22}e^{(\\kappa_1+\\kappa_2)u} & \\sigma_{22}^2e^{2\\kappa_2u} \\end{bmatrix}du \\\\=\\begin{bmatrix} \\frac{\\sigma_{11}^2+\\sigma_{21}^2}{2\\kappa_1}(e^{2\\kappa_1t}-1) & \\frac{\\sigma_{21}\\sigma_{22}}{\\kappa_1+\\kappa_2}(e^{(\\kappa_1+\\kappa_2)t}-1) \\\\ \\frac{\\sigma_{21}\\sigma_{22}}{\\kappa_1+\\kappa_2}(e^{(\\kappa_1+\\kappa_2)t}-1) & \\frac{\\sigma_{22}^2}{2\\kappa_2}(e^{2\\kappa_2t}-1)\\end{bmatrix}$$\n",
    "For $P(t,x(t),T)$, we know $$P(t,x(t),T)=e^{-\\int_{t}^{T} f(t,x(t),u)du}$$ where $$f(t,x(t),u)=f(0,u)+M(t,u)^T(x(t)+y(t)G(t,u))$$\n",
    "Since $f(0,u)$ is constant, then $$P(t,x(t),T)=e^{-f(0,T)+f(0,t)}e^{-x(t)\\int_{t}^{T}M(t,u)du}e^{-y(t)\\int_{t}^{T}M(t,u)^TG(t,u)du}\\\\=\\frac{P(0,T)}{P(0,t)}exp\\big(-G(t,T)^Tx(t)-\\frac{1}{2}G(t,T)^Ty(t)G(t,T)\\big)$$\n",
    "where $$M(t,T)=\\begin{bmatrix} e^{-\\kappa_1(T-t)} \\\\ e^{-\\kappa_2(T-t)}\\end{bmatrix}$$\n",
    "and $$G(t,T)=\\int_{t}^{T}M(t,u)du=\\int_{t}^{T}\\begin{bmatrix} e^{-\\kappa_1(T-t)} \\\\ e^{-\\kappa_2(T-t)}\\end{bmatrix}du\\\\=\\begin{bmatrix} \\frac{1-\\kappa_1(T-t)}{\\kappa_1} \\\\ \\frac{1-\\kappa_2(T-t)}{\\kappa_2}\\end{bmatrix}$$"
   ]
  },
  {
   "cell_type": "markdown",
   "metadata": {},
   "source": [
    "###### Inputs"
   ]
  },
  {
   "cell_type": "code",
   "execution_count": 5,
   "metadata": {
    "collapsed": true
   },
   "outputs": [],
   "source": [
    "num_simulation = 50000\n",
    "sim_freq = 12\n",
    "\n",
    "### Interest rate parameters\n",
    "spread = 0.005 # spread i.e. f_LIBOR=f_OIS+spread\n",
    "f0_OIS = 0.02\n",
    "f0_LIBOR = f0_OIS+spread\n",
    "\n",
    "### swap parameters\n",
    "freq = 2\n",
    "maturity = 10\n",
    "coupon = 0.0265\n",
    "notional = 150000000.\n",
    "\n",
    "### Interest rate model parameters\n",
    "sigma_r = 0.02\n",
    "c = 0.35\n",
    "kappa1,kappa2 = 0.02,0.1\n",
    "rho_inf = 0.4\n",
    "nu = np.sqrt(1./c/c - 1. - 2.*(rho_inf/c - 1.))\n",
    "rho_x = (rho_inf/c - 1.)*nu\n",
    "sigma_l = c * sigma_r\n",
    "sigma1 = sigma_l\n",
    "sigma2 = nu*sigma1\n",
    "\n",
    "### Credit curve parameters\n",
    "lbda0_B, lbda0_C = 0.01,0.03\n",
    "sigmaB, sigmaC = 0.005,0.01\n",
    "kappaB, kappaC = 0.1,0.1\n",
    "\n",
    "rho_Bf, rho_Cf = 0.1,0.1\n",
    "rho_BC = 0.75\n",
    "rho_Br, rho_Cr = 0.25,0.25\n",
    "rho_B1 = rho_Bf   # corr b/w lbdaB and x1\n",
    "rho_C1 = rho_Cf   # corr b/w lbdaC and x1\n",
    "rho_B2 = rho_Br*np.sqrt(nu*nu+1.+2*rho_x*nu)-nu*rho_B1   # corr b/w lbdaB and x2\n",
    "rho_C2 = rho_Cr*np.sqrt(nu*nu+1.+2*rho_x*nu)-nu*rho_C1   # corr b/w lbdaC and x2\n",
    "\n",
    "### correlation matrix among lbdaB,lbdaC,x1,x2 for simulation\n",
    "corr = np.array([[1., rho_BC, rho_B1, rho_B2],\\\n",
    "                 [rho_BC, 1., rho_C1, rho_C2],\\\n",
    "                 [rho_B1, rho_C1, 1., rho_x],\\\n",
    "                 [rho_B2, rho_C2, rho_x, 1.]])\n",
    "chol = np.linalg.cholesky(corr)"
   ]
  },
  {
   "cell_type": "code",
   "execution_count": null,
   "metadata": {
    "collapsed": true
   },
   "outputs": [],
   "source": [
    "swap = Swap(maturity, coupon, freq, notional)\n",
    "swap.__str__()\n",
    "\n",
    "Tis = np.arange(1./freq,maturity+1e-6,1./freq)\n",
    "ts = np.arange(1./sim_freq,maturity+1e-6,1./sim_freq)\n",
    "prices=[]\n",
    "for num in range(num_simulation):\n",
    "    # simulate correlated 4-D brownian motion\n",
    "    wt = chol.dot(np.random.normal(0,1./sim_freq,(4,sim_freq*maturity)))\n",
    "    \n",
    "    P_OIS, P_LIBOR = simulateOIS(rho_x, sigma1, sigma2, kappa1, kappa2, sim_freq, maturity, f0_OIS, spread,ts,Tis)\n",
    "    X_B,X_C = simulateSurvivalProb(lbda0_B,lbda0_C,ts,sigmaB,kappaB,sigmaC,kappaC,wt)\n",
    "    price_one_path=[]\n",
    "    for i in range(maturity*sim_freq):\n",
    "        price_one_path.append(priceSwap(swap, 'receiver', P_OIS, P_LIBOR, i, ts, Tis,sim_freq))\n",
    "        \n",
    "    prices.append(price_one_path)"
   ]
  },
  {
   "cell_type": "code",
   "execution_count": 25,
   "metadata": {
    "collapsed": false
   },
   "outputs": [
    {
     "name": "stdout",
     "output_type": "stream",
     "text": [
      "121\n",
      "120\n"
     ]
    }
   ],
   "source": [
    "wt = chol.dot(np.random.normal(0,1./sim_freq,(4,sim_freq*maturity)))\n",
    "X_B,X_C = simulateSurvivalProb(lbda0_B,lbda0_C,ts,sigmaB,kappaB,sigmaC,kappaC,wt)\n",
    "#plot(ts,X_B,ts,X_C)\n",
    "print len(X_C)\n",
    "print len(X_C[1])"
   ]
  },
  {
   "cell_type": "code",
   "execution_count": 32,
   "metadata": {
    "collapsed": false
   },
   "outputs": [
    {
     "name": "stdout",
     "output_type": "stream",
     "text": [
      "[1.0076129402366936, 1.0067409764076638, 1.0058693441124258, 1.0049980587594116, 1.0041271353911496, 1.0032565886913942, 1.0023864329921321, 1.0015166822804569, 1.0006473502053241, 0.9997784500841832, 0.99890999490948695, 0.99804199735508603, 0.99717446978250857, 0.99630742424712093, 0.99544087250418212, 0.99457482601478409, 0.99370929595168622, 0.99284429320504275, 0.99197982838802479, 0.99111591184234116, 0.99025255364365661]\n"
     ]
    },
    {
     "data": {
      "image/png": "[encoded data removed]",
      "text/plain": [
       "<matplotlib.figure.Figure at 0xb6f74e0>"
      ]
     },
     "metadata": {},
     "output_type": "display_data"
    }
   ],
   "source": [
    "plot(X_B[100],)\n",
    "print X_B[100]"
   ]
  },
  {
   "cell_type": "code",
   "execution_count": 6,
   "metadata": {
    "collapsed": false
   },
   "outputs": [
    {
     "ename": "TypeError",
     "evalue": "simulateOIS() takes exactly 12 arguments (10 given)",
     "output_type": "error",
     "traceback": [
      "\u001b[0;31m---------------------------------------------------------------------------\u001b[0m",
      "\u001b[0;31mTypeError\u001b[0m                                 Traceback (most recent call last)",
      "\u001b[0;32m<ipython-input-6-66ab04d9531b>\u001b[0m in \u001b[0;36m<module>\u001b[0;34m()\u001b[0m\n\u001b[1;32m      9\u001b[0m     \u001b[0mwt\u001b[0m \u001b[1;33m=\u001b[0m \u001b[0mchol\u001b[0m\u001b[1;33m.\u001b[0m\u001b[0mdot\u001b[0m\u001b[1;33m(\u001b[0m\u001b[0mnp\u001b[0m\u001b[1;33m.\u001b[0m\u001b[0mrandom\u001b[0m\u001b[1;33m.\u001b[0m\u001b[0mnormal\u001b[0m\u001b[1;33m(\u001b[0m\u001b[1;36m0\u001b[0m\u001b[1;33m,\u001b[0m\u001b[1;36m1.\u001b[0m\u001b[1;33m/\u001b[0m\u001b[0msim_freq\u001b[0m\u001b[1;33m,\u001b[0m\u001b[1;33m(\u001b[0m\u001b[1;36m4\u001b[0m\u001b[1;33m,\u001b[0m\u001b[0msim_freq\u001b[0m\u001b[1;33m*\u001b[0m\u001b[0mmaturity\u001b[0m\u001b[1;33m)\u001b[0m\u001b[1;33m)\u001b[0m\u001b[1;33m)\u001b[0m\u001b[1;33m\u001b[0m\u001b[0m\n\u001b[1;32m     10\u001b[0m \u001b[1;33m\u001b[0m\u001b[0m\n\u001b[0;32m---> 11\u001b[0;31m     \u001b[0mP_OIS\u001b[0m\u001b[1;33m,\u001b[0m \u001b[0mP_LIBOR\u001b[0m \u001b[1;33m=\u001b[0m \u001b[0msimulateOIS\u001b[0m\u001b[1;33m(\u001b[0m\u001b[0mrho_x\u001b[0m\u001b[1;33m,\u001b[0m \u001b[0msigma1\u001b[0m\u001b[1;33m,\u001b[0m \u001b[0msigma2\u001b[0m\u001b[1;33m,\u001b[0m \u001b[0mkappa1\u001b[0m\u001b[1;33m,\u001b[0m \u001b[0mkappa2\u001b[0m\u001b[1;33m,\u001b[0m \u001b[0msim_freq\u001b[0m\u001b[1;33m,\u001b[0m \u001b[0mmaturity\u001b[0m\u001b[1;33m,\u001b[0m \u001b[0mf0_OIS\u001b[0m\u001b[1;33m,\u001b[0m \u001b[0mf0_LIBOR\u001b[0m\u001b[1;33m,\u001b[0m \u001b[0mspread\u001b[0m\u001b[1;33m)\u001b[0m\u001b[1;33m\u001b[0m\u001b[0m\n\u001b[0m\u001b[1;32m     12\u001b[0m     \u001b[0mprice_one_path\u001b[0m\u001b[1;33m=\u001b[0m\u001b[1;33m[\u001b[0m\u001b[1;33m]\u001b[0m\u001b[1;33m\u001b[0m\u001b[0m\n\u001b[1;32m     13\u001b[0m     \u001b[1;32mfor\u001b[0m \u001b[0mi\u001b[0m \u001b[1;32min\u001b[0m \u001b[0mrange\u001b[0m\u001b[1;33m(\u001b[0m\u001b[0mmaturity\u001b[0m\u001b[1;33m*\u001b[0m\u001b[0msim_freq\u001b[0m\u001b[1;33m)\u001b[0m\u001b[1;33m:\u001b[0m\u001b[1;33m\u001b[0m\u001b[0m\n",
      "\u001b[0;31mTypeError\u001b[0m: simulateOIS() takes exactly 12 arguments (10 given)"
     ]
    }
   ],
   "source": [
    "plot(np.average(prices,axis=0));"
   ]
  },
  {
   "cell_type": "code",
   "execution_count": 7,
   "metadata": {
    "collapsed": false
   },
   "outputs": [
    {
     "data": {
      "text/plain": [
       "array([[-1.5613746 ,  0.35010227, -0.91653306],\n",
       "       [-0.10438003, -0.27719157, -0.60928736],\n",
       "       [ 0.58390275,  1.71231875, -1.41108173],\n",
       "       [-0.79196534, -0.02335912, -1.95858042]])"
      ]
     },
     "execution_count": 7,
     "metadata": {},
     "output_type": "execute_result"
    }
   ],
   "source": [
    "np.random.normal(0,1,(4,3))"
   ]
  },
  {
   "cell_type": "markdown",
   "metadata": {},
   "source": [
    "###### Credit Curve Setting"
   ]
  },
  {
   "cell_type": "code",
   "execution_count": null,
   "metadata": {
    "collapsed": true
   },
   "outputs": [],
   "source": []
  },
  {
   "cell_type": "code",
   "execution_count": null,
   "metadata": {
    "collapsed": true
   },
   "outputs": [],
   "source": []
  },
  {
   "cell_type": "code",
   "execution_count": null,
   "metadata": {
    "collapsed": true
   },
   "outputs": [],
   "source": []
  },
  {
   "cell_type": "code",
   "execution_count": null,
   "metadata": {
    "collapsed": false
   },
   "outputs": [],
   "source": [
    "# test cell\n",
    "rho_x = 0.5\n",
    "C = np.asarray([[1,0],[rho_x,1-rho_x*rho_x]]) # Cholesky decomposition of correlation matrix\n",
    "wt = C.dot(np.random.normal(0,1,(2,)))\n",
    "print wt.shape\n",
    "print np.ones(2).shape\n",
    "print np.diag(np.asarray([2,3]))\n",
    "print np.arange(1./12,10.00001,1./12)"
   ]
  },
  {
   "cell_type": "code",
   "execution_count": null,
   "metadata": {
    "collapsed": false
   },
   "outputs": [],
   "source": [
    "print len(P_OIS[1])\n",
    "print len(Tis)\n",
    "print len(P_LIBOR[61])"
   ]
  },
  {
   "cell_type": "markdown",
   "metadata": {},
   "source": [
    "### 4 IMM Exercise"
   ]
  },
  {
   "cell_type": "code",
   "execution_count": null,
   "metadata": {
    "collapsed": true
   },
   "outputs": [],
   "source": []
  }
 ],
 "metadata": {
  "anaconda-cloud": {},
  "kernelspec": {
   "display_name": "Python [default]",
   "language": "python",
   "name": "python2"
  },
  "language_info": {
   "codemirror_mode": {
    "name": "ipython",
    "version": 2
   },
   "file_extension": ".py",
   "mimetype": "text/x-python",
   "name": "python",
   "nbconvert_exporter": "python",
   "pygments_lexer": "ipython2",
   "version": "2.7.12"
  }
 },
 "nbformat": 4,
 "nbformat_minor": 1
}
