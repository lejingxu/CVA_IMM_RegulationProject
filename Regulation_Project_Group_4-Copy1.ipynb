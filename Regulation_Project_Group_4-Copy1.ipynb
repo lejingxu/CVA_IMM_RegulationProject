{
 "cells": [
  {
   "cell_type": "code",
   "execution_count": 1,
   "metadata": {
    "collapsed": false
   },
   "outputs": [],
   "source": [
    "import numpy as np\n",
    "import matplotlib.pyplot as plt\n",
    "#%pylab inline\n",
    "\n",
    "from swap import Swap,priceSwap\n",
    "from marketSetup import simulateOIS,simulateSurvivalProb\n",
    "from valuationAdjustment import calculatePVEE,calculateUniCVA"
   ]
  },
  {
   "cell_type": "markdown",
   "metadata": {},
   "source": [
    "### 3 CVA/DVA Exercise"
   ]
  },
  {
   "cell_type": "markdown",
   "metadata": {},
   "source": [
    "###### Simulate OIS curve"
   ]
  },
  {
   "cell_type": "markdown",
   "metadata": {},
   "source": [
    "From equation (18) and (19) from [1], we get $$\\sigma_{22}=\\sigma_2$$\n",
    "$$\\sigma_{21}=\\sigma_1 \\times \\rho_x$$\n",
    "$$\\sigma_{11}=\\sqrt{\\sigma_1^2-\\sigma_{21}^2}=\\sqrt{\\sigma_1^2-\\sigma_1^2\\times \\rho_x^2}$$\n",
    "For $y(t)$, we calculate the involved integral manually:\n",
    "$$\\int_{0}^{t}{a(u)^T a(u)du}=\\int_{0}^{t} \\begin{bmatrix} \\sigma_{11}^2e^{2\\kappa_1u} & \\sigma_{21}\\sigma_{22}e^{(\\kappa_1+\\kappa_2)u}\\\\\\sigma_{21}\\sigma_{22}e^{(\\kappa_1+\\kappa_2)u} & \\sigma_{22}^2e^{2\\kappa_2u} \\end{bmatrix}du \\\\=\\begin{bmatrix} \\frac{\\sigma_{11}^2+\\sigma_{21}^2}{2\\kappa_1}(e^{2\\kappa_1t}-1) & \\frac{\\sigma_{21}\\sigma_{22}}{\\kappa_1+\\kappa_2}(e^{(\\kappa_1+\\kappa_2)t}-1) \\\\ \\frac{\\sigma_{21}\\sigma_{22}}{\\kappa_1+\\kappa_2}(e^{(\\kappa_1+\\kappa_2)t}-1) & \\frac{\\sigma_{22}^2}{2\\kappa_2}(e^{2\\kappa_2t}-1)\\end{bmatrix}$$\n",
    "For $P(t,x(t),T)$, we know $$P(t,x(t),T)=e^{-\\int_{t}^{T} f(t,x(t),u)du}$$ where $$f(t,x(t),u)=f(0,u)+M(t,u)^T(x(t)+y(t)G(t,u))$$\n",
    "Since $f(0,u)$ is constant, then $$P(t,x(t),T)=e^{-f(0,T)+f(0,t)}e^{-x(t)\\int_{t}^{T}M(t,u)du}e^{-y(t)\\int_{t}^{T}M(t,u)^TG(t,u)du}\\\\=\\frac{P(0,T)}{P(0,t)}exp\\big(-G(t,T)^Tx(t)-\\frac{1}{2}G(t,T)^Ty(t)G(t,T)\\big)$$\n",
    "where $$M(t,T)=\\begin{bmatrix} e^{-\\kappa_1(T-t)} \\\\ e^{-\\kappa_2(T-t)}\\end{bmatrix}$$\n",
    "and $$G(t,T)=\\int_{t}^{T}M(t,u)du=\\int_{t}^{T}\\begin{bmatrix} e^{-\\kappa_1(T-t)} \\\\ e^{-\\kappa_2(T-t)}\\end{bmatrix}du\\\\=\\begin{bmatrix} \\frac{1-\\kappa_1(T-t)}{\\kappa_1} \\\\ \\frac{1-\\kappa_2(T-t)}{\\kappa_2}\\end{bmatrix}$$"
   ]
  },
  {
   "cell_type": "markdown",
   "metadata": {},
   "source": [
    "###### Inputs"
   ]
  },
  {
   "cell_type": "code",
   "execution_count": 2,
   "metadata": {
    "collapsed": true
   },
   "outputs": [],
   "source": [
    "num_simulation = 50000\n",
    "sim_freq = 12\n",
    "\n",
    "### Interest rate parameters\n",
    "spread = 0.005 # spread i.e. f_LIBOR=f_OIS+spread\n",
    "f0_OIS = 0.02\n",
    "f0_LIBOR = f0_OIS+spread\n",
    "\n",
    "### swap parameters\n",
    "freq = 2\n",
    "maturity = 10\n",
    "coupon = 0.0265\n",
    "notional = 150000000.\n",
    "\n",
    "### Interest rate model parameters\n",
    "sigma_r = 0.02\n",
    "c = 0.35\n",
    "kappa1,kappa2 = 0.02,0.1\n",
    "rho_inf = 0.4\n",
    "nu = np.sqrt(1./c/c - 1. - 2.*(rho_inf/c - 1.))\n",
    "rho_x = (rho_inf/c - 1.)*nu\n",
    "sigma_l = c * sigma_r\n",
    "sigma1 = sigma_l\n",
    "sigma2 = nu*sigma1\n",
    "\n",
    "### Credit curve parameters\n",
    "lbda0_B, lbda0_C = 0.01,0.03\n",
    "sigmaB, sigmaC = 0.005,0.01\n",
    "kappaB, kappaC = 0.1,0.1\n",
    "\n",
    "rho_Bf, rho_Cf = 0.1,0.1\n",
    "rho_BC = 0.75\n",
    "rho_Br, rho_Cr = 0.25,0.25\n",
    "rho_B1 = rho_Bf   # corr b/w lbdaB and x1\n",
    "rho_C1 = rho_Cf   # corr b/w lbdaC and x1\n",
    "rho_B2 = rho_Br*np.sqrt(nu*nu+1.+2*rho_x*nu)-nu*rho_B1   # corr b/w lbdaB and x2\n",
    "rho_C2 = rho_Cr*np.sqrt(nu*nu+1.+2*rho_x*nu)-nu*rho_C1   # corr b/w lbdaC and x2\n",
    "\n",
    "### correlation matrix among lbdaB,lbdaC,x1,x2 for simulation\n",
    "corr = np.array([[1., rho_BC, rho_B1, rho_B2],\\\n",
    "                 [rho_BC, 1., rho_C1, rho_C2],\\\n",
    "                 [rho_B1, rho_C1, 1., rho_x],\\\n",
    "                 [rho_B2, rho_C2, rho_x, 1.]])\n",
    "chol = np.linalg.cholesky(corr)\n",
    "\n",
    "### Credit Mitigation\n",
    "D = 0.0375   # intensity threshold for downgrade provision\n",
    "collateral = 5000000.\n",
    "rr = 0.4    # recovery rate"
   ]
  },
  {
   "cell_type": "code",
   "execution_count": 3,
   "metadata": {
    "collapsed": false
   },
   "outputs": [],
   "source": [
    "swap = Swap(maturity, coupon, freq, notional)\n",
    "swap.__str__()\n",
    "\n",
    "\n",
    "Tis = np.arange(1./freq,maturity+1e-6,1./freq)\n",
    "ts = np.arange(1./sim_freq,maturity+1e-6,1./sim_freq)\n",
    "\n",
    "num_simulation = 20\n",
    "\n",
    "prices_payer=[]\n",
    "prices_receiver = []\n",
    "P_OISs = []\n",
    "P_LIBORs = []\n",
    "X_Bs = []\n",
    "X_Cs = []\n",
    "lbdaBs = []\n",
    "lbdaCs = []\n",
    "\n",
    "for num in range(num_simulation):\n",
    "    # simulate correlated 4-D brownian motion\n",
    "    wt = chol.dot(np.random.normal(0,1./sim_freq,(4,sim_freq*maturity)))\n",
    "    P_OIS, P_LIBOR = simulateOIS(rho_x, sigma1, sigma2, kappa1, kappa2, sim_freq, maturity, f0_OIS, spread,ts,Tis,wt)\n",
    "    X_B,X_C,lbdaB,lbdaC = simulateSurvivalProb(lbda0_B,lbda0_C,ts,sigmaB,kappaB,sigmaC,kappaC,wt)\n",
    "    price_one_path=[]\n",
    "    price_one_path_payer = []\n",
    "    for i in range(maturity*sim_freq):\n",
    "        p =priceSwap(swap, 'payer', P_OIS, P_LIBOR, i, ts, Tis,sim_freq)\n",
    "        price_one_path_payer.append(p)\n",
    "        price_one_path.append(-p)\n",
    "        \n",
    "    prices_payer.append(price_one_path_payer)\n",
    "    prices_receiver.append(price_one_path)\n",
    "    P_OISs.append(P_OIS)\n",
    "    P_LIBORs.append(P_LIBOR)\n",
    "    X_Bs.append(X_B)\n",
    "    X_Cs.append(X_C)\n",
    "    lbdaBs.append(lbdaB)\n",
    "    lbdaCs.append(lbdaC)"
   ]
  },
  {
   "cell_type": "markdown",
   "metadata": {},
   "source": [
    "##### 1 Plot $PVEE(T)$ as seen from B as payer and receiver respectively"
   ]
  },
  {
   "cell_type": "code",
   "execution_count": 4,
   "metadata": {
    "collapsed": false
   },
   "outputs": [
    {
     "name": "stdout",
     "output_type": "stream",
     "text": [
      "Payer [0.076052528215090565, 0.073395493766334335, 0.066595769395875706, 0.065164585019217222, 0.059005137972123915, 0.061626868621625142, 0.11209466697321653, 0.1031580847628219, 0.098471978529013321, 0.096927573040517606, 0.08851533953000279, 0.083671045062928759, 0.13127642793880823, 0.12996086297731935, 0.11848450810114632, 0.12112886602080594, 0.11939408168995155, 0.12198033888175688, 0.14124102014372569, 0.13292960692540093, 0.12637984827457557, 0.11824516699693315, 0.11387367999930727, 0.11395487269912173, 0.18287800278784558, 0.17427221644280702, 0.16772062245997024, 0.16850964340685295, 0.16560240149122216, 0.155781373010974, 0.20484283333570891, 0.20163990190906722, 0.19779723802084379, 0.19682491984089717, 0.19727382211160788, 0.18805822282984763, 0.21807720974984335, 0.21564932265627812, 0.2120006615098273, 0.21103990041837231, 0.20317847320940594, 0.1994036242797973, 0.24652859461919896, 0.24204627943341692, 0.23995408136935195, 0.23751015084077348, 0.22972431007572686, 0.22524579179120924, 0.26287130818218585, 0.26102576495939406, 0.25738386378074196, 0.25879478732737743, 0.25097577032139334, 0.24914772385068207, 0.28162992168386342, 0.29061915839580249, 0.28662393497432809, 0.27317899763808806, 0.27135571661624475, 0.26408529102781175, 0.2951473525408827, 0.2904945255477332, 0.28213591215714079, 0.28176041328999346, 0.2714003718061973, 0.26614221671031124, 0.32962733448196596, 0.32564335197211663, 0.31855786914155293, 0.32167435034704445, 0.32187522591598577, 0.3199518520404589, 0.3349615390128805, 0.33422257679537004, 0.33276052530481109, 0.32691880211971464, 0.32440870983423686, 0.32428612146918651, 0.35506898310718177, 0.35324710858556685, 0.344901350395867, 0.33877545986877738, 0.33222532752295175, 0.33143353767815659, 0.38427486775460412, 0.37748938015764516, 0.3704967414037092, 0.36281315384075163, 0.35961992011347954, 0.35216587626317958, 0.37982589000096678, 0.37744552167332723, 0.36633785369950439, 0.36897707961286597, 0.36824968232916289, 0.36074868688658962, 0.4056506211008849, 0.39942934587791784, 0.39398810754975061, 0.39033910287591239, 0.38760106720501997, 0.38445547405223396, 0.44561894931775242, 0.44358798184962878, 0.43483768894485958, 0.428596648238393, 0.42563045172426778, 0.4132713500992653, 0.43910000568965435, 0.43302757776497702, 0.43388310654801887, 0.43851109227098667, 0.42908678600975009, 0.42719825841894821, 0.46570071230311949, 0.46562154120620142, 0.46383432099726152, 0.46190310782960242, 0.45790417098330483, 0.45368518791829399]\n",
      "Receiver [0.0, 0.0, 0.0, 0.0, 0.0, 0.0, 0.0, 0.0, 0.0, 0.0, 0.0, 0.0, 0.0, 0.0, 0.0, 0.0, 5.0711495037877657e-05, 0.0010660998831910887, 0.00082943936630511998, 0.00086541984052201546, 0.0028680408025571012, 0.0039524114245133761, 0.0041923076615466145, 0.0049399198003158605, 0.0, 0.0, 0.0, 0.0, 0.0006202427093043812, 0.0015204828470200091, 0.0, 8.6520396105385324e-06, 0.00016878923868661304, 0.00037990245447426285, 0.00072928545852316083, 0.0010091016879619033, 0.0, 0.0, 0.0, 0.0, 0.0, 0.0, 0.0, 0.0, 0.0, 0.0, 0.0, 0.0, 0.0, 0.0, 0.0, 0.0, 0.0, 0.0, 0.0, 0.0, 0.0, 0.0, 0.0, 0.0, 0.0, 0.0, 0.00031516365472520865, 0.001118312004297267, 0.0014347708237461125, 0.0016637369006319864, 0.0, 0.0, 0.0, 0.0, 0.0, 0.0, 0.0, 0.0, 0.0, 0.0, 0.0, 0.0, 0.0, 0.0, 0.0, 0.0, 0.0, 0.0, 0.0, 0.0, 0.0, 0.0, 0.0, 0.0, 0.0, 0.0, 0.0, 0.0, 0.0, 0.0, 0.0, 0.0, 0.0, 0.0, 0.0, 0.0, 0.0, 0.0, 0.0, 0.0, 0.0, 0.0, 0.0, 0.0, 0.0, 0.0, 0.0, 0.0, 0.0, 0.0, 0.0, 0.0, 0.0, 0.0]\n"
     ]
    },
    {
     "data": {
      "image/png": "[encoded data removed]",
      "text/plain": [
       "<matplotlib.figure.Figure at 0x78191d0>"
      ]
     },
     "metadata": {},
     "output_type": "display_data"
    }
   ],
   "source": [
    "switch_collateral = False\n",
    "switch_downProv = False\n",
    "collateral = 0\n",
    "D = 0\n",
    "PVEE_payer,EE_payer = calculatePVEE(lbdaCs,P_OISs,X_Cs,prices_payer,switch_collateral,switch_downProv,collateral,D)\n",
    "PVEE_receiver,EE_receiver = calculatePVEE(lbdaCs,P_OISs,X_Cs,prices_receiver,switch_collateral,switch_downProv,collateral,D)\n",
    "print \"Payer\",PVEE_payer\n",
    "print \"Receiver\",PVEE_receiver\n",
    "\n",
    "plt.plot(ts,PVEE_receiver,ts,PVEE_payer)\n",
    "plt.xlabel('Time')\n",
    "plt.ylabel('PVEE')\n",
    "plt.title('PVEE')\n",
    "plt.legend(['Receiver','Payer'])\n",
    "plt.show()"
   ]
  },
  {
   "cell_type": "code",
   "execution_count": 5,
   "metadata": {
    "collapsed": false
   },
   "outputs": [
    {
     "name": "stdout",
     "output_type": "stream",
     "text": [
      "Unilateral CVA as a payer for B is 0.493490525782\n",
      "Unilateral CVA as a receiver for B is 0.000462550167221\n"
     ]
    }
   ],
   "source": [
    "CVA_uni_payer = calculateUniCVA(EE_payer,P_OISs,X_Cs,lbdaCs,rr)\n",
    "CVA_uni_receiver = calculateUniCVA(EE_receiver,P_OISs,X_Cs,lbdaCs,rr)\n",
    "print \"Unilateral CVA as a payer for B is\", CVA_uni_payer\n",
    "print \"Unilateral CVA as a receiver for B is\",CVA_uni_receiver"
   ]
  },
  {
   "cell_type": "code",
   "execution_count": null,
   "metadata": {
    "collapsed": false
   },
   "outputs": [],
   "source": [
    "a = [1,2,3]\n",
    "b = [2,3,4]\n",
    "print np.multiply(a,b)"
   ]
  },
  {
   "cell_type": "code",
   "execution_count": null,
   "metadata": {
    "collapsed": false
   },
   "outputs": [],
   "source": [
    "a = P_LIBORs[0][50]\n",
    "b = (np.asarray(a[0:-1])/np.asarray(a[1:])-1.)*2.\n",
    "plt.plot(b)\n",
    "plt.show()\n",
    "print b"
   ]
  },
  {
   "cell_type": "code",
   "execution_count": null,
   "metadata": {
    "collapsed": false
   },
   "outputs": [],
   "source": [
    "plt.plot(lbdaCs[-2][65])\n",
    "plt.show()"
   ]
  },
  {
   "cell_type": "code",
   "execution_count": null,
   "metadata": {
    "collapsed": true
   },
   "outputs": [],
   "source": []
  },
  {
   "cell_type": "code",
   "execution_count": null,
   "metadata": {
    "collapsed": false
   },
   "outputs": [],
   "source": [
    "wt = chol.dot(np.random.normal(0,1./sim_freq,(4,sim_freq*maturity)))\n",
    "ts = np.arange(1./sim_freq,maturity+1e-6,1./sim_freq)\n",
    "X_B,X_C,lbdaB,lbdaC = marketSetup.simulateSurvivalProb(lbda0_B,lbda0_C,ts,sigmaB,kappaB,sigmaC,kappaC,wt)\n",
    "#plot(ts,X_B,ts,X_C)\n",
    "print len(X_C)\n",
    "print len(X_C[1])"
   ]
  },
  {
   "cell_type": "code",
   "execution_count": null,
   "metadata": {
    "collapsed": false
   },
   "outputs": [],
   "source": [
    "a = np.array([0,1,2,3,4,5,6,7,8,9,10,11,13])\n",
    "np.where(a[::3]>3)\n",
    "a[0::3]\n",
    "np.argmax(a>3)"
   ]
  },
  {
   "cell_type": "code",
   "execution_count": null,
   "metadata": {
    "collapsed": false
   },
   "outputs": [],
   "source": [
    "a = np.array([0,1,2,-3,4])\n",
    "print np.maximum(a,0)"
   ]
  },
  {
   "cell_type": "code",
   "execution_count": null,
   "metadata": {
    "collapsed": false
   },
   "outputs": [],
   "source": [
    "plot(np.average(prices,axis=0));"
   ]
  },
  {
   "cell_type": "code",
   "execution_count": null,
   "metadata": {
    "collapsed": false
   },
   "outputs": [],
   "source": [
    "np.random.normal(0,1,(4,3))"
   ]
  },
  {
   "cell_type": "markdown",
   "metadata": {},
   "source": [
    "###### Credit Curve Setting"
   ]
  },
  {
   "cell_type": "code",
   "execution_count": null,
   "metadata": {
    "collapsed": true
   },
   "outputs": [],
   "source": []
  },
  {
   "cell_type": "code",
   "execution_count": null,
   "metadata": {
    "collapsed": true
   },
   "outputs": [],
   "source": []
  },
  {
   "cell_type": "code",
   "execution_count": null,
   "metadata": {
    "collapsed": true
   },
   "outputs": [],
   "source": []
  },
  {
   "cell_type": "code",
   "execution_count": null,
   "metadata": {
    "collapsed": false
   },
   "outputs": [],
   "source": [
    "# test cell\n",
    "rho_x = 0.5\n",
    "C = np.asarray([[1,0],[rho_x,1-rho_x*rho_x]]) # Cholesky decomposition of correlation matrix\n",
    "wt = C.dot(np.random.normal(0,1,(2,)))\n",
    "print wt.shape\n",
    "print np.ones(2).shape\n",
    "print np.diag(np.asarray([2,3]))\n",
    "print np.arange(1./12,10.00001,1./12)"
   ]
  },
  {
   "cell_type": "code",
   "execution_count": null,
   "metadata": {
    "collapsed": false
   },
   "outputs": [],
   "source": [
    "print len(P_OIS[1])\n",
    "print len(Tis)\n",
    "print len(P_LIBOR[61])"
   ]
  },
  {
   "cell_type": "markdown",
   "metadata": {},
   "source": [
    "### 4 IMM Exercise"
   ]
  },
  {
   "cell_type": "code",
   "execution_count": null,
   "metadata": {
    "collapsed": true
   },
   "outputs": [],
   "source": []
  }
 ],
 "metadata": {
  "anaconda-cloud": {},
  "kernelspec": {
   "display_name": "Python [default]",
   "language": "python",
   "name": "python2"
  },
  "language_info": {
   "codemirror_mode": {
    "name": "ipython",
    "version": 2
   },
   "file_extension": ".py",
   "mimetype": "text/x-python",
   "name": "python",
   "nbconvert_exporter": "python",
   "pygments_lexer": "ipython2",
   "version": "2.7.12"
  }
 },
 "nbformat": 4,
 "nbformat_minor": 1
}
