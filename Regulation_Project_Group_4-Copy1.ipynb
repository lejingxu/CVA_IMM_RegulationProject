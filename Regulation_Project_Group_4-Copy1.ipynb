{
 "cells": [
  {
   "cell_type": "code",
   "execution_count": 1,
   "metadata": {
    "collapsed": false
   },
   "outputs": [
    {
     "name": "stdout",
     "output_type": "stream",
     "text": [
      "Populating the interactive namespace from numpy and matplotlib\n"
     ]
    }
   ],
   "source": [
    "import numpy as np\n",
    "import scipy.integrate as integrate\n",
    "%pylab inline\n",
    "\n",
    "from swap import Swap,priceSwap\n",
    "from marketSetup import simulateOIS,simulateSurvivalProb"
   ]
  },
  {
   "cell_type": "markdown",
   "metadata": {},
   "source": [
    "### 3 CVA/DVA Exercise"
   ]
  },
  {
   "cell_type": "markdown",
   "metadata": {},
   "source": [
    "###### Simulate OIS curve"
   ]
  },
  {
   "cell_type": "markdown",
   "metadata": {},
   "source": [
    "From equation (18) and (19) from [1], we get $$\\sigma_{22}=\\sigma_2$$\n",
    "$$\\sigma_{21}=\\sigma_1 \\times \\rho_x$$\n",
    "$$\\sigma_{11}=\\sqrt{\\sigma_1^2-\\sigma_{21}^2}=\\sqrt{\\sigma_1^2-\\sigma_1^2\\times \\rho_x^2}$$\n",
    "For $y(t)$, we calculate the involved integral manually:\n",
    "$$\\int_{0}^{t}{a(u)^T a(u)du}=\\int_{0}^{t} \\begin{bmatrix} \\sigma_{11}^2e^{2\\kappa_1u} & \\sigma_{21}\\sigma_{22}e^{(\\kappa_1+\\kappa_2)u}\\\\\\sigma_{21}\\sigma_{22}e^{(\\kappa_1+\\kappa_2)u} & \\sigma_{22}^2e^{2\\kappa_2u} \\end{bmatrix}du \\\\=\\begin{bmatrix} \\frac{\\sigma_{11}^2+\\sigma_{21}^2}{2\\kappa_1}(e^{2\\kappa_1t}-1) & \\frac{\\sigma_{21}\\sigma_{22}}{\\kappa_1+\\kappa_2}(e^{(\\kappa_1+\\kappa_2)t}-1) \\\\ \\frac{\\sigma_{21}\\sigma_{22}}{\\kappa_1+\\kappa_2}(e^{(\\kappa_1+\\kappa_2)t}-1) & \\frac{\\sigma_{22}^2}{2\\kappa_2}(e^{2\\kappa_2t}-1)\\end{bmatrix}$$\n",
    "For $P(t,x(t),T)$, we know $$P(t,x(t),T)=e^{-\\int_{t}^{T} f(t,x(t),u)du}$$ where $$f(t,x(t),u)=f(0,u)+M(t,u)^T(x(t)+y(t)G(t,u))$$\n",
    "Since $f(0,u)$ is constant, then $$P(t,x(t),T)=e^{-f(0,T)+f(0,t)}e^{-x(t)\\int_{t}^{T}M(t,u)du}e^{-y(t)\\int_{t}^{T}M(t,u)^TG(t,u)du}\\\\=\\frac{P(0,T)}{P(0,t)}exp\\big(-G(t,T)^Tx(t)-\\frac{1}{2}G(t,T)^Ty(t)G(t,T)\\big)$$\n",
    "where $$M(t,T)=\\begin{bmatrix} e^{-\\kappa_1(T-t)} \\\\ e^{-\\kappa_2(T-t)}\\end{bmatrix}$$\n",
    "and $$G(t,T)=\\int_{t}^{T}M(t,u)du=\\int_{t}^{T}\\begin{bmatrix} e^{-\\kappa_1(T-t)} \\\\ e^{-\\kappa_2(T-t)}\\end{bmatrix}du\\\\=\\begin{bmatrix} \\frac{1-\\kappa_1(T-t)}{\\kappa_1} \\\\ \\frac{1-\\kappa_2(T-t)}{\\kappa_2}\\end{bmatrix}$$"
   ]
  },
  {
   "cell_type": "markdown",
   "metadata": {},
   "source": [
    "###### Inputs"
   ]
  },
  {
   "cell_type": "code",
   "execution_count": 2,
   "metadata": {
    "collapsed": true
   },
   "outputs": [],
   "source": [
    "num_simulation = 50000\n",
    "sim_freq = 12\n",
    "\n",
    "### Interest rate parameters\n",
    "spread = 0.005 # spread i.e. f_LIBOR=f_OIS+spread\n",
    "f0_OIS = 0.02\n",
    "f0_LIBOR = f0_OIS+spread\n",
    "\n",
    "### swap parameters\n",
    "freq = 2\n",
    "maturity = 10\n",
    "coupon = 0.0265\n",
    "notional = 150000000.\n",
    "\n",
    "### Interest rate model parameters\n",
    "sigma_r = 0.02\n",
    "c = 0.35\n",
    "kappa1,kappa2 = 0.02,0.1\n",
    "rho_inf = 0.4\n",
    "nu = np.sqrt(1./c/c - 1. - 2.*(rho_inf/c - 1.))\n",
    "rho_x = (rho_inf/c - 1.)*nu\n",
    "sigma_l = c * sigma_r\n",
    "sigma1 = sigma_l\n",
    "sigma2 = nu*sigma1\n",
    "\n",
    "### Credit curve parameters\n",
    "lbda0_B, lbda0_C = 0.01,0.03\n",
    "sigmaB, sigmaC = 0.005,0.01\n",
    "kappaB, kappaC = 0.1,0.1\n",
    "\n",
    "rho_Bf, rho_Cf = 0.1,0.1\n",
    "rho_BC = 0.75\n",
    "rho_Br, rho_Cr = 0.25,0.25\n",
    "rho_B1 = rho_Bf   # corr b/w lbdaB and x1\n",
    "rho_C1 = rho_Cf   # corr b/w lbdaC and x1\n",
    "rho_B2 = rho_Br*np.sqrt(nu*nu+1.+2*rho_x*nu)-nu*rho_B1   # corr b/w lbdaB and x2\n",
    "rho_C2 = rho_Cr*np.sqrt(nu*nu+1.+2*rho_x*nu)-nu*rho_C1   # corr b/w lbdaC and x2\n",
    "\n",
    "### correlation matrix among lbdaB,lbdaC,x1,x2 for simulation\n",
    "corr = np.array([[1., rho_BC, rho_B1, rho_B2],\\\n",
    "                 [rho_BC, 1., rho_C1, rho_C2],\\\n",
    "                 [rho_B1, rho_C1, 1., rho_x],\\\n",
    "                 [rho_B2, rho_C2, rho_x, 1.]])\n",
    "chol = np.linalg.cholesky(corr)"
   ]
  },
  {
   "cell_type": "code",
   "execution_count": 5,
   "metadata": {
    "collapsed": false
   },
   "outputs": [],
   "source": [
    "swap = Swap(maturity, coupon, freq, notional)\n",
    "swap.__str__()\n",
    "\n",
    "Tis = np.arange(1./freq,maturity+1e-6,1./freq)\n",
    "ts = np.arange(1./sim_freq,maturity+1e-6,1./sim_freq)\n",
    "prices=[]\n",
    "\n",
    "for num in range(num_simulation):\n",
    "    # simulate correlated 4-D brownian motion\n",
    "    wt = chol.dot(np.random.normal(0,1./sim_freq,(4,sim_freq*maturity)))\n",
    "    \n",
    "    P_OIS, P_LIBOR = simulateOIS(rho_x, sigma1, sigma2, kappa1, kappa2, sim_freq, maturity, f0_OIS, spread,ts,Tis,wt)\n",
    "    X_B,X_C,lbdaB,lbdaC = simulateSurvivalProb(lbda0_B,lbda0_C,ts,sigmaB,kappaB,sigmaC,kappaC,wt)\n",
    "    price_one_path=[]\n",
    "    for i in range(maturity*sim_freq):\n",
    "        price_one_path.append(priceSwap(swap, 'receiver', P_OIS, P_LIBOR, i, ts,Tis, sim_freq))\n",
    "        \n",
    "    prices.append(price_one_path)"
   ]
  },
  {
   "cell_type": "code",
   "execution_count": 9,
   "metadata": {
    "collapsed": false
   },
   "outputs": [
    {
     "name": "stdout",
     "output_type": "stream",
     "text": [
      "[ 17935555.74399479  18223244.98544963  18651833.80792002  18774362.1939109\n",
      "  18102355.89666903  18253948.52592488  17103477.28053838\n",
      "  17234622.10630935  16700780.09671983  16717462.00519546\n",
      "  17011673.94081719  16714291.32105072  16012376.97456519\n",
      "  16613792.91190851  16215600.64965993  15678416.54045297\n",
      "  15417172.31719364  15980138.01705843  15291061.6946653   15011213.20030542\n",
      "  15249396.50453481  14476372.65029493  13703057.56510778\n",
      "  14096928.69113078  13415056.13279616  13197373.52149249\n",
      "  13044209.38540511  12990035.2754441   12843018.82998998\n",
      "  13006239.44743251  12432691.97835331  12051914.74355435\n",
      "  11718888.27038207  11708828.1929338   11693157.46761988\n",
      "  11537619.63205654  10654864.61925268  10909241.27740008\n",
      "  11177878.94387699  11247720.89475487  10762793.6611129   10611294.14243466\n",
      "   9762844.48056854   9710997.67652716   9976901.80863079\n",
      "   9991012.02422942   9789332.20461347  10004290.69416536\n",
      "   9377872.33873739   8962117.26825208   8348513.54722665\n",
      "   8108024.82042263   8318711.00998028   8615610.09559933\n",
      "   7688204.31650229   7996063.71570018   7903056.451995     7709018.43623906\n",
      "   7918652.77169518   7351213.11600952   6787251.21473741\n",
      "   6804884.58220796   6995962.74466303   7063139.47855513\n",
      "   7103365.11624991   6967834.98118752   6263483.76264506\n",
      "   6173870.50712239   5947290.62566539   6141841.41238294\n",
      "   6143555.21154061   5817080.35495688   4971793.57006632\n",
      "   5122338.44016566   5018064.83629569   5093305.93728359\n",
      "   5285783.36512567   5158165.64261052   4544978.06737274   4505833.9812725\n",
      "   4363049.27371655   4229359.69021489   4072866.20886876\n",
      "   4021531.68407028   3447185.33578017   3313345.58551218\n",
      "   3485204.93321035   3595638.73021036   3650903.01341097\n",
      "   3698070.33307728   3025298.26020375   2990397.66948602\n",
      "   2952073.13577976   2705056.02216451   2697094.87605781   2574019.4453998\n",
      "   2157485.24256076   2215973.2355933    2218098.65596237\n",
      "   2244577.98059271   2217780.48382642   2229415.05915345\n",
      "   1662741.77070183   1660630.11411567   1671393.23576228\n",
      "   1628265.07199051   1584074.44066638   1575878.96841052\n",
      "   1066973.72180288   1099165.08254961   1110759.88463058\n",
      "   1124875.79481371   1159267.59838054   1144231.68661426\n",
      "    602751.85629222    599958.05289833    608100.80699903    587837.6769542\n",
      "    599368.0378292     595099.29699438]\n"
     ]
    }
   ],
   "source": [
    "print np.average(np.asarray(prices),axis=0)"
   ]
  },
  {
   "cell_type": "code",
   "execution_count": null,
   "metadata": {
    "collapsed": false
   },
   "outputs": [],
   "source": [
    "wt = chol.dot(np.random.normal(0,1./sim_freq,(4,sim_freq*maturity)))\n",
    "ts = np.arange(1./sim_freq,maturity+1e-6,1./sim_freq)\n",
    "X_B,X_C,lbdaB,lbdaC = marketSetup.simulateSurvivalProb(lbda0_B,lbda0_C,ts,sigmaB,kappaB,sigmaC,kappaC,wt)\n",
    "#plot(ts,X_B,ts,X_C)\n",
    "print len(X_C)\n",
    "print len(X_C[1])"
   ]
  },
  {
   "cell_type": "code",
   "execution_count": null,
   "metadata": {
    "collapsed": false
   },
   "outputs": [],
   "source": [
    "a = np.array([0,1,2,3,4,5,6,7,8,9,10,11,13])\n",
    "np.where(a[::3]>3)\n",
    "a[0::3]\n",
    "np.argmax(a>3)"
   ]
  },
  {
   "cell_type": "code",
   "execution_count": 13,
   "metadata": {
    "collapsed": false
   },
   "outputs": [
    {
     "name": "stdout",
     "output_type": "stream",
     "text": [
      "[0 1 2 0 4]\n"
     ]
    }
   ],
   "source": [
    "a = np.array([0,1,2,-3,4])\n",
    "print np.maximum(a,0)"
   ]
  },
  {
   "cell_type": "code",
   "execution_count": null,
   "metadata": {
    "collapsed": false
   },
   "outputs": [],
   "source": [
    "plot(np.average(prices,axis=0));"
   ]
  },
  {
   "cell_type": "code",
   "execution_count": null,
   "metadata": {
    "collapsed": false
   },
   "outputs": [],
   "source": [
    "np.random.normal(0,1,(4,3))"
   ]
  },
  {
   "cell_type": "markdown",
   "metadata": {},
   "source": [
    "###### Credit Curve Setting"
   ]
  },
  {
   "cell_type": "code",
   "execution_count": null,
   "metadata": {
    "collapsed": true
   },
   "outputs": [],
   "source": []
  },
  {
   "cell_type": "code",
   "execution_count": null,
   "metadata": {
    "collapsed": true
   },
   "outputs": [],
   "source": []
  },
  {
   "cell_type": "code",
   "execution_count": null,
   "metadata": {
    "collapsed": true
   },
   "outputs": [],
   "source": []
  },
  {
   "cell_type": "code",
   "execution_count": null,
   "metadata": {
    "collapsed": false
   },
   "outputs": [],
   "source": [
    "# test cell\n",
    "rho_x = 0.5\n",
    "C = np.asarray([[1,0],[rho_x,1-rho_x*rho_x]]) # Cholesky decomposition of correlation matrix\n",
    "wt = C.dot(np.random.normal(0,1,(2,)))\n",
    "print wt.shape\n",
    "print np.ones(2).shape\n",
    "print np.diag(np.asarray([2,3]))\n",
    "print np.arange(1./12,10.00001,1./12)"
   ]
  },
  {
   "cell_type": "code",
   "execution_count": null,
   "metadata": {
    "collapsed": false
   },
   "outputs": [],
   "source": [
    "print len(P_OIS[1])\n",
    "print len(Tis)\n",
    "print len(P_LIBOR[61])"
   ]
  },
  {
   "cell_type": "markdown",
   "metadata": {},
   "source": [
    "### 4 IMM Exercise"
   ]
  },
  {
   "cell_type": "code",
   "execution_count": null,
   "metadata": {
    "collapsed": true
   },
   "outputs": [],
   "source": []
  }
 ],
 "metadata": {
  "anaconda-cloud": {},
  "kernelspec": {
   "display_name": "Python [default]",
   "language": "python",
   "name": "python2"
  },
  "language_info": {
   "codemirror_mode": {
    "name": "ipython",
    "version": 2
   },
   "file_extension": ".py",
   "mimetype": "text/x-python",
   "name": "python",
   "nbconvert_exporter": "python",
   "pygments_lexer": "ipython2",
   "version": "2.7.12"
  }
 },
 "nbformat": 4,
 "nbformat_minor": 1
}
