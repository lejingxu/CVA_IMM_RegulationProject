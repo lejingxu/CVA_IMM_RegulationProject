{
 "cells": [
  {
   "cell_type": "code",
   "execution_count": 2,
   "metadata": {
    "collapsed": false
   },
   "outputs": [],
   "source": [
    "import numpy as np\n",
    "import matplotlib.pyplot as plt\n",
    "#%pylab inline\n",
    "\n",
    "from swap import Swap,priceSwap\n",
    "from marketSetup import simulateOIS,simulateSurvivalProb\n",
    "from valuationAdjustment import calculatePVEE,calculateUniCVA,calculateUniDVA,calculateNetUniCVA"
   ]
  },
  {
   "cell_type": "markdown",
   "metadata": {},
   "source": [
    "### 3 CVA/DVA Exercise"
   ]
  },
  {
   "cell_type": "markdown",
   "metadata": {},
   "source": [
    "###### Simulate OIS curve"
   ]
  },
  {
   "cell_type": "markdown",
   "metadata": {},
   "source": [
    "From equation (18) and (19) from [1], we get $$\\sigma_{22}=\\sigma_2$$\n",
    "$$\\sigma_{21}=\\sigma_1 \\times \\rho_x$$\n",
    "$$\\sigma_{11}=\\sqrt{\\sigma_1^2-\\sigma_{21}^2}=\\sqrt{\\sigma_1^2-\\sigma_1^2\\times \\rho_x^2}$$\n",
    "For $y(t)$, we calculate the involved integral manually:\n",
    "$$\\int_{0}^{t}{a(u)^T a(u)du}=\\int_{0}^{t} \\begin{bmatrix} \\sigma_{11}^2e^{2\\kappa_1u} & \\sigma_{21}\\sigma_{22}e^{(\\kappa_1+\\kappa_2)u}\\\\\\sigma_{21}\\sigma_{22}e^{(\\kappa_1+\\kappa_2)u} & \\sigma_{22}^2e^{2\\kappa_2u} \\end{bmatrix}du \\\\=\\begin{bmatrix} \\frac{\\sigma_{11}^2+\\sigma_{21}^2}{2\\kappa_1}(e^{2\\kappa_1t}-1) & \\frac{\\sigma_{21}\\sigma_{22}}{\\kappa_1+\\kappa_2}(e^{(\\kappa_1+\\kappa_2)t}-1) \\\\ \\frac{\\sigma_{21}\\sigma_{22}}{\\kappa_1+\\kappa_2}(e^{(\\kappa_1+\\kappa_2)t}-1) & \\frac{\\sigma_{22}^2}{2\\kappa_2}(e^{2\\kappa_2t}-1)\\end{bmatrix}$$\n",
    "For $P(t,x(t),T)$, we know $$P(t,x(t),T)=e^{-\\int_{t}^{T} f(t,x(t),u)du}$$ where $$f(t,x(t),u)=f(0,u)+M(t,u)^T(x(t)+y(t)G(t,u))$$\n",
    "Since $f(0,u)$ is constant, then $$P(t,x(t),T)=e^{-f(0,T)+f(0,t)}e^{-x(t)\\int_{t}^{T}M(t,u)du}e^{-y(t)\\int_{t}^{T}M(t,u)^TG(t,u)du}\\\\=\\frac{P(0,T)}{P(0,t)}exp\\big(-G(t,T)^Tx(t)-\\frac{1}{2}G(t,T)^Ty(t)G(t,T)\\big)$$\n",
    "where $$M(t,T)=\\begin{bmatrix} e^{-\\kappa_1(T-t)} \\\\ e^{-\\kappa_2(T-t)}\\end{bmatrix}$$\n",
    "and $$G(t,T)=\\int_{t}^{T}M(t,u)du=\\int_{t}^{T}\\begin{bmatrix} e^{-\\kappa_1(T-t)} \\\\ e^{-\\kappa_2(T-t)}\\end{bmatrix}du\\\\=\\begin{bmatrix} \\frac{1-\\kappa_1(T-t)}{\\kappa_1} \\\\ \\frac{1-\\kappa_2(T-t)}{\\kappa_2}\\end{bmatrix}$$"
   ]
  },
  {
   "cell_type": "markdown",
   "metadata": {},
   "source": [
    "###### Inputs"
   ]
  },
  {
   "cell_type": "code",
   "execution_count": 3,
   "metadata": {
    "collapsed": true
   },
   "outputs": [],
   "source": [
    "num_simulation = 50000\n",
    "sim_freq = 12\n",
    "\n",
    "### Interest rate parameters\n",
    "spread = 0.005 # spread i.e. f_LIBOR=f_OIS+spread\n",
    "f0_OIS = 0.02\n",
    "f0_LIBOR = f0_OIS+spread\n",
    "\n",
    "### swap parameters\n",
    "freq = 2\n",
    "maturity = 10\n",
    "coupon = 0.0265\n",
    "notional = 150000000.\n",
    "\n",
    "### Interest rate model parameters\n",
    "sigma_r = 0.02\n",
    "c = 0.35\n",
    "kappa1,kappa2 = 0.02,0.1\n",
    "rho_inf = 0.4\n",
    "nu = np.sqrt(1./c/c - 1. - 2.*(rho_inf/c - 1.))\n",
    "rho_x = (rho_inf/c - 1.)*nu\n",
    "sigma_l = c * sigma_r\n",
    "sigma1 = sigma_l\n",
    "sigma2 = nu*sigma1\n",
    "\n",
    "### Credit curve parameters\n",
    "lbda0_B, lbda0_C = 0.01,0.03\n",
    "sigmaB, sigmaC = 0.005,0.01\n",
    "kappaB, kappaC = 0.1,0.1\n",
    "\n",
    "rho_Bf, rho_Cf = 0.1,0.1\n",
    "rho_BC = 0.75\n",
    "rho_Br, rho_Cr = 0.25,0.25\n",
    "rho_B1 = rho_Bf   # corr b/w lbdaB and x1\n",
    "rho_C1 = rho_Cf   # corr b/w lbdaC and x1\n",
    "rho_B2 = rho_Br*np.sqrt(nu*nu+1.+2*rho_x*nu)-nu*rho_B1   # corr b/w lbdaB and x2\n",
    "rho_C2 = rho_Cr*np.sqrt(nu*nu+1.+2*rho_x*nu)-nu*rho_C1   # corr b/w lbdaC and x2\n",
    "\n",
    "### correlation matrix among lbdaB,lbdaC,x1,x2 for simulation\n",
    "corr = np.array([[1., rho_BC, rho_B1, rho_B2],\\\n",
    "                 [rho_BC, 1., rho_C1, rho_C2],\\\n",
    "                 [rho_B1, rho_C1, 1., rho_x],\\\n",
    "                 [rho_B2, rho_C2, rho_x, 1.]])\n",
    "chol = np.linalg.cholesky(corr)\n",
    "\n",
    "### Credit Mitigation\n",
    "D = 0.0375   # intensity threshold for downgrade provision\n",
    "collateral = 5000000.\n",
    "rr = 0.4    # recovery rate"
   ]
  },
  {
   "cell_type": "code",
   "execution_count": 4,
   "metadata": {
    "collapsed": false
   },
   "outputs": [],
   "source": [
    "swap = Swap(maturity, coupon, freq, notional)\n",
    "swap.__str__()\n",
    "\n",
    "\n",
    "Tis = np.arange(1./freq,maturity+1e-6,1./freq)\n",
    "ts = np.arange(1./sim_freq,maturity+1e-6,1./sim_freq)\n",
    "\n",
    "num_simulation = 20\n",
    "\n",
    "prices_payer=[]\n",
    "prices_receiver = []\n",
    "P_OISs = []\n",
    "P_LIBORs = []\n",
    "X_Bs = []\n",
    "X_Cs = []\n",
    "lbdaBs = []\n",
    "lbdaCs = []\n",
    "wts = []\n",
    "\n",
    "for num in range(num_simulation):\n",
    "    # simulate correlated 4-D brownian motion\n",
    "    wt = chol.dot(np.random.normal(0,1./sim_freq,(4,sim_freq*maturity)))\n",
    "    wts.append(wt)\n",
    "    P_OIS, P_LIBOR = simulateOIS(rho_x, sigma1, sigma2, kappa1, kappa2, sim_freq, maturity, f0_OIS, spread,ts,Tis,wt)\n",
    "    X_B,X_C,lbdaB,lbdaC = simulateSurvivalProb(lbda0_B,lbda0_C,ts,sigmaB,kappaB,sigmaC,kappaC,wt)\n",
    "    price_one_path=[]\n",
    "    price_one_path_payer = []\n",
    "    for i in range(maturity*sim_freq):\n",
    "        p =priceSwap(swap, 'payer', P_OIS, P_LIBOR, i, ts, Tis,sim_freq)\n",
    "        price_one_path_payer.append(p)\n",
    "        price_one_path.append(-p)\n",
    "        \n",
    "    prices_payer.append(price_one_path_payer)\n",
    "    prices_receiver.append(price_one_path)\n",
    "    P_OISs.append(P_OIS)\n",
    "    P_LIBORs.append(P_LIBOR)\n",
    "    X_Bs.append(X_B)\n",
    "    X_Cs.append(X_C)\n",
    "    lbdaBs.append(lbdaB)\n",
    "    lbdaCs.append(lbdaC)"
   ]
  },
  {
   "cell_type": "markdown",
   "metadata": {},
   "source": [
    "##### 1 Plot $PVEE(T)$ as seen from B as payer and receiver respectively"
   ]
  },
  {
   "cell_type": "code",
   "execution_count": 5,
   "metadata": {
    "collapsed": false
   },
   "outputs": [
    {
     "data": {
      "image/png": "[encoded data removed]",
      "text/plain": [
       "<matplotlib.figure.Figure at 0x78b8160>"
      ]
     },
     "metadata": {},
     "output_type": "display_data"
    }
   ],
   "source": [
    "switch_collateral = False\n",
    "switch_downProv = False\n",
    "collateral = 0\n",
    "D = 0\n",
    "PVEE_payer,EE_payer = calculatePVEE(lbdaCs,P_OISs,X_Cs,prices_payer,switch_collateral,switch_downProv,collateral,D)\n",
    "PVEE_receiver,EE_receiver = calculatePVEE(lbdaCs,P_OISs,X_Cs,prices_receiver,switch_collateral,switch_downProv,collateral,D)\n",
    "#print \"Payer\",PVEE_payer\n",
    "#print \"Receiver\",PVEE_receiver\n",
    "\n",
    "plt.plot(ts,PVEE_receiver,ts,PVEE_payer)\n",
    "plt.xlabel('Time')\n",
    "plt.ylabel('PVEE')\n",
    "plt.title('PVEE')\n",
    "plt.legend(['Receiver','Payer'])\n",
    "plt.show()"
   ]
  },
  {
   "cell_type": "markdown",
   "metadata": {},
   "source": [
    "##### 2 The unilateral CVA from the perspective of B for both payer and receiver swap"
   ]
  },
  {
   "cell_type": "code",
   "execution_count": 6,
   "metadata": {
    "collapsed": false
   },
   "outputs": [
    {
     "name": "stdout",
     "output_type": "stream",
     "text": [
      "Unilateral CVA as a payer for B is 0.439301309486\n",
      "Unilateral CVA as a receiver for B is 0.0054058319537\n"
     ]
    }
   ],
   "source": [
    "CVA_uni_payer = calculateUniCVA(EE_payer,P_OISs,X_Cs,lbdaCs,rr)\n",
    "CVA_uni_receiver = calculateUniCVA(EE_receiver,P_OISs,X_Cs,lbdaCs,rr)\n",
    "print \"Unilateral CVA as a payer for B is\", CVA_uni_payer\n",
    "print \"Unilateral CVA as a receiver for B is\",CVA_uni_receiver"
   ]
  },
  {
   "cell_type": "markdown",
   "metadata": {},
   "source": [
    "##### 3 The unilateral DVA from the perspective of B for both payer and receiver swap, net unilateral CVA"
   ]
  },
  {
   "cell_type": "code",
   "execution_count": 7,
   "metadata": {
    "collapsed": false
   },
   "outputs": [
    {
     "name": "stdout",
     "output_type": "stream",
     "text": [
      "Unilateral DVA as a payer for B is 0.166040007599\n",
      "Unilateral DVA as a receiver for B is 0.00194576739073\n",
      "Net Unilateral CVA as a payer for B is -0.273261301887\n",
      "Net Unilateral CVA as a receiver for B is -0.00346006456297\n"
     ]
    }
   ],
   "source": [
    "DVA_uni_payer = calculateUniDVA(EE_payer,P_OISs,X_Bs,lbdaBs,rr)\n",
    "DVA_uni_receiver = calculateUniDVA(EE_receiver,P_OISs,X_Bs,lbdaBs,rr)\n",
    "print \"Unilateral DVA as a payer for B is\", DVA_uni_payer\n",
    "print \"Unilateral DVA as a receiver for B is\",DVA_uni_receiver\n",
    "\n",
    "net_uni_CVA_payer = calculateNetUniCVA(CVA_uni_payer,DVA_uni_payer)\n",
    "net_uni_CVA_receiver = calculateNetUniCVA(CVA_uni_receiver,DVA_uni_receiver)\n",
    "print \"Net Unilateral CVA as a payer for B is\", net_uni_CVA_payer\n",
    "print \"Net Unilateral CVA as a receiver for B is\",net_uni_CVA_receiver"
   ]
  },
  {
   "cell_type": "markdown",
   "metadata": {},
   "source": [
    "##### 4 For the receiver swap, graph the unilateral CVA, DVA, and net CVA against the interest rate model parameters $\\sigma_r$ and $\\kappa_2$ (two separate graphs)"
   ]
  },
  {
   "cell_type": "code",
   "execution_count": null,
   "metadata": {
    "collapsed": true
   },
   "outputs": [],
   "source": [
    "### sigma_r\n",
    "sigma_rs = np.arange(0,0.5,0.01)\n",
    "num_sim = 20\n",
    "uniCVA_4s = []\n",
    "uniDVA_4s = []\n",
    "netCVA_4s = []\n",
    "for i in range(len(sigma_rs)):\n",
    "    sigma_l_4 = c * sigma_rs[i]\n",
    "    sigma1_4 = sigma_l_4\n",
    "    sigma2_4 = nu*sigma1_4\n",
    "    P_OISs_4 = []\n",
    "    #P_LIBORs_4 = []\n",
    "    prices_receiver_4 = []\n",
    "    for j in range(num_sim):\n",
    "        P_OIS, P_LIBOR = simulateOIS(rho_x, sigma1_4, sigma2_4, kappa1, kappa2, sim_freq, maturity, f0_OIS, spread,ts,Tis,wts[j])\n",
    "        #X_B,X_C,lbdaB,lbdaC = simulateSurvivalProb(lbda0_B,lbda0_C,ts,sigmaB,kappaB,sigmaC,kappaC,wt)\n",
    "        price_one_path=[]\n",
    "        for t in range(maturity*sim_freq):\n",
    "            p =priceSwap(swap, 'receiver', P_OIS, P_LIBOR, t, ts, Tis,sim_freq)\n",
    "            price_one_path.append(p)\n",
    "        \n",
    "        prices_receiver_4.append(price_one_path)\n",
    "        P_OISs_4.append(P_OIS)\n",
    "        #P_LIBORs_4.append(P_LIBOR)\n",
    "        \n",
    "    PVEE_4,EE_4 = calculatePVEE(lbdaCs,P_OISs_4,X_Cs,prices_receiver_4,switch_collateral,switch_downProv,collateral,D)\n",
    "    uniCVA = calculateUniCVA(EE_4,P_OISs_4,X_Cs,lbdaCs,rr)\n",
    "    uniDVA = calculateUniDVA(EE_4,P_OISs_4,X_Bs,lbdaBs,rr)\n",
    "    netCVA = calculateNetUniCVA(uniCVA,uniDVA)\n",
    "    uniCVA_4s.append(uniCVA)\n",
    "    uniDVA_4s.append(uniDVA)\n",
    "    netCVA_4s.append(netCVA)\n",
    "\n",
    "    \n",
    "### kappa_2\n",
    "kappa2s = np.arange(0,0.5,0.01)\n",
    "uniCVA_4k = []\n",
    "uniDVA_4k = []\n",
    "netCVA_4k = []\n",
    "for i in range(len(kappa2s)):\n",
    "    \n",
    "    P_OISs_4k = []\n",
    "    #P_LIBORs_4k = []\n",
    "    prices_receiver_4k = []\n",
    "    for j in range(num_sim):\n",
    "        P_OIS, P_LIBOR = simulateOIS(rho_x, sigma1, sigma2, kappa1, kappa2s[i], sim_freq, maturity, f0_OIS, spread,ts,Tis,wts[j])\n",
    "        #X_B,X_C,lbdaB,lbdaC = simulateSurvivalProb(lbda0_B,lbda0_C,ts,sigmaB,kappaB,sigmaC,kappaC,wt)\n",
    "        price_one_path=[]\n",
    "        for t in range(maturity*sim_freq):\n",
    "            p =priceSwap(swap, 'receiver', P_OIS, P_LIBOR, t, ts, Tis,sim_freq)\n",
    "            price_one_path.append(p)\n",
    "        \n",
    "        prices_receiver_4k.append(price_one_path)\n",
    "        P_OISs_4k.append(P_OIS)\n",
    "        #P_LIBORs_4k.append(P_LIBOR)\n",
    "        \n",
    "    PVEE_4k,EE_4k = calculatePVEE(lbdaCs,P_OISs_4k,X_Cs,prices_receiver_4k,switch_collateral,switch_downProv,collateral,D)\n",
    "    uniCVA = calculateUniCVA(EE_4k,P_OISs_4k,X_Cs,lbdaCs,rr)\n",
    "    uniDVA = calculateUniDVA(EE_4k,P_OISs_4k,X_Bs,lbdaBs,rr)\n",
    "    netCVA = calculateNetUniCVA(uniCVA,uniDVA)\n",
    "    uniCVA_4k.append(uniCVA)\n",
    "    uniDVA_4k.append(uniDVA)\n",
    "    netCVA_4k.append(netCVA)\n",
    "    \n",
    "### plot \n",
    "plt.figure(figsize=[12,8])\n",
    "plt.subplot(1,2,1)\n",
    "plt.plot(sigma_rs,uniCVA_4s,sigma_rs,uniDVA_4s,sigma_rs,netCVA_4s)\n",
    "plt.title('Against $\\sigma_r$')\n",
    "plt.xlabel('$\\sigma_r$')\n",
    "plt.legend(['CVA','DVA','Net CVA'])\n",
    "\n",
    "plt.subplot(1,2,2)\n",
    "plt.plot(kappa2s,uniCVA_4k,kappa2s,uniDVA_4k,kappa2s,netCVA_4k)\n",
    "plt.title('Against $\\kappa_2$')\n",
    "plt.xlabel('$\\kappa_2$')\n",
    "plt.legend(['CVA','DVA','Net CVA'])\n",
    "plt.show()"
   ]
  },
  {
   "cell_type": "markdown",
   "metadata": {},
   "source": [
    "###### Explain the results:\n"
   ]
  },
  {
   "cell_type": "code",
   "execution_count": 9,
   "metadata": {
    "collapsed": false
   },
   "outputs": [
    {
     "name": "stdout",
     "output_type": "stream",
     "text": [
      "[ 2  6 12]\n"
     ]
    },
    {
     "data": {
      "image/png": "[encoded data removed]",
      "text/plain": [
       "<matplotlib.figure.Figure at 0x947fac8>"
      ]
     },
     "metadata": {},
     "output_type": "display_data"
    }
   ],
   "source": [
    "a = [1,2,3]\n",
    "b = [2,3,4]\n",
    "print np.multiply(a,b)\n",
    "plt.figure(figsize=[12,8])\n",
    "plt.subplot(1,2,1)\n",
    "plt.plot(a)\n",
    "plt.subplot(1,2,2)\n",
    "plt.plot(b)\n",
    "plt.show()"
   ]
  },
  {
   "cell_type": "code",
   "execution_count": null,
   "metadata": {
    "collapsed": false
   },
   "outputs": [],
   "source": [
    "a = P_LIBORs[0][50]\n",
    "b = (np.asarray(a[0:-1])/np.asarray(a[1:])-1.)*2.\n",
    "plt.plot(b)\n",
    "plt.show()\n",
    "print b"
   ]
  },
  {
   "cell_type": "code",
   "execution_count": null,
   "metadata": {
    "collapsed": false
   },
   "outputs": [],
   "source": [
    "plt.plot(lbdaCs[-2][65])\n",
    "plt.show()"
   ]
  },
  {
   "cell_type": "code",
   "execution_count": null,
   "metadata": {
    "collapsed": true
   },
   "outputs": [],
   "source": []
  },
  {
   "cell_type": "code",
   "execution_count": null,
   "metadata": {
    "collapsed": false
   },
   "outputs": [],
   "source": [
    "wt = chol.dot(np.random.normal(0,1./sim_freq,(4,sim_freq*maturity)))\n",
    "ts = np.arange(1./sim_freq,maturity+1e-6,1./sim_freq)\n",
    "X_B,X_C,lbdaB,lbdaC = marketSetup.simulateSurvivalProb(lbda0_B,lbda0_C,ts,sigmaB,kappaB,sigmaC,kappaC,wt)\n",
    "#plot(ts,X_B,ts,X_C)\n",
    "print len(X_C)\n",
    "print len(X_C[1])"
   ]
  },
  {
   "cell_type": "code",
   "execution_count": null,
   "metadata": {
    "collapsed": false
   },
   "outputs": [],
   "source": [
    "a = np.array([0,1,2,3,4,5,6,7,8,9,10,11,13])\n",
    "np.where(a[::3]>3)\n",
    "a[0::3]\n",
    "np.argmax(a>3)"
   ]
  },
  {
   "cell_type": "code",
   "execution_count": null,
   "metadata": {
    "collapsed": false
   },
   "outputs": [],
   "source": [
    "a = np.array([0,1,2,-3,4])\n",
    "print np.maximum(a,0)"
   ]
  },
  {
   "cell_type": "code",
   "execution_count": null,
   "metadata": {
    "collapsed": false
   },
   "outputs": [],
   "source": [
    "plot(np.average(prices,axis=0));"
   ]
  },
  {
   "cell_type": "code",
   "execution_count": null,
   "metadata": {
    "collapsed": false
   },
   "outputs": [],
   "source": [
    "np.random.normal(0,1,(4,3))"
   ]
  },
  {
   "cell_type": "markdown",
   "metadata": {},
   "source": [
    "###### Credit Curve Setting"
   ]
  },
  {
   "cell_type": "code",
   "execution_count": null,
   "metadata": {
    "collapsed": true
   },
   "outputs": [],
   "source": []
  },
  {
   "cell_type": "code",
   "execution_count": null,
   "metadata": {
    "collapsed": true
   },
   "outputs": [],
   "source": []
  },
  {
   "cell_type": "code",
   "execution_count": null,
   "metadata": {
    "collapsed": true
   },
   "outputs": [],
   "source": []
  },
  {
   "cell_type": "code",
   "execution_count": null,
   "metadata": {
    "collapsed": false
   },
   "outputs": [],
   "source": [
    "# test cell\n",
    "rho_x = 0.5\n",
    "C = np.asarray([[1,0],[rho_x,1-rho_x*rho_x]]) # Cholesky decomposition of correlation matrix\n",
    "wt = C.dot(np.random.normal(0,1,(2,)))\n",
    "print wt.shape\n",
    "print np.ones(2).shape\n",
    "print np.diag(np.asarray([2,3]))\n",
    "print np.arange(1./12,10.00001,1./12)"
   ]
  },
  {
   "cell_type": "code",
   "execution_count": null,
   "metadata": {
    "collapsed": false
   },
   "outputs": [],
   "source": [
    "print len(P_OIS[1])\n",
    "print len(Tis)\n",
    "print len(P_LIBOR[61])"
   ]
  },
  {
   "cell_type": "markdown",
   "metadata": {},
   "source": [
    "### 4 IMM Exercise"
   ]
  },
  {
   "cell_type": "code",
   "execution_count": null,
   "metadata": {
    "collapsed": true
   },
   "outputs": [],
   "source": []
  }
 ],
 "metadata": {
  "anaconda-cloud": {},
  "kernelspec": {
   "display_name": "Python [default]",
   "language": "python",
   "name": "python2"
  },
  "language_info": {
   "codemirror_mode": {
    "name": "ipython",
    "version": 2
   },
   "file_extension": ".py",
   "mimetype": "text/x-python",
   "name": "python",
   "nbconvert_exporter": "python",
   "pygments_lexer": "ipython2",
   "version": "2.7.12"
  }
 },
 "nbformat": 4,
 "nbformat_minor": 1
}
